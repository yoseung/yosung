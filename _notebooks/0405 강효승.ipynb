{
 "cells": [
  {
   "cell_type": "markdown",
   "id": "1891a3d1-c633-40ba-af0f-777fccd9aa25",
   "metadata": {},
   "source": [
    "### 5. 데이터의 전처리"
   ]
  },
  {
   "cell_type": "markdown",
   "id": "36168153-62b5-4d67-a152-6f3e264a5c56",
   "metadata": {},
   "source": [
    "* 결손값(NaN, Null)을 변환해줘야 함.\n",
    "* 그러나 상황에 따라 피처값중 Null값이 얼마 없다면 피처값의 평균값으로 대체할 수 있지만 Null이 대부분이라면 해당 피처는 드랍하는게 낫다.\n",
    "\n",
    "+) 사이킷런의 머신러닝 알고리즘은 문자열을 입력값으로 허용하지 않아 숫자형으로 변환되야함. 문자열 피처에는 일반적으로 카테고리형과 텍스트형이 있음. \n",
    "텍스트형은 피처 벡터화를 해주거나 불필요하다면 삭제하는게 좋음. 불필요 경우로는 주민번호나 단순 문자가 있는데 이런 식별자 피처는 데이터 로우를 식별하는 용도로 사용되어 예측에 중요한 요소가 아님. 그래서 알고리즘을 오히려 복잡하게 만들고 예측 성능을 저하시켜 삭제하는게 좋음"
   ]
  },
  {
   "cell_type": "markdown",
   "id": "6083aec0-7c70-4a44-98a0-57be52d2b416",
   "metadata": {},
   "source": [
    "#### 데이터 인코딩\n",
    "인코딩 방식에는 레이블 인코딩과 원핫 인코딩이 있음\n",
    "* 레이블 인코딩: \n",
    "\n",
    "  * 문자열 값을 숫자영 카테고리 값으로 변환하는 방식. 예를들어 TV:1, 냉장고:2 주의할 점은 '01', '02'와 같은 코드 값 역시 문자열이므로 1, 2와 같은 숫자형 값으로 변환돼야 함. 위에서 말하듯 사이킷런의 머신러닝 알고리즘은 문자열을 값을 허용안해 숫자형으로 바꿔야함. \n",
    "  * 사이킷런의 레이블 인코딩은 LabelEncoder 클래스로 구현함."
   ]
  },
  {
   "cell_type": "code",
   "execution_count": 128,
   "id": "7332e4eb-e12b-4b65-9f05-ccc755e38b56",
   "metadata": {},
   "outputs": [
    {
     "name": "stdout",
     "output_type": "stream",
     "text": [
      "인코딩 변환값: [0 1 4 5 3 3 2 2]\n"
     ]
    }
   ],
   "source": [
    "from sklearn.preprocessing import LabelEncoder\n",
    "items=['TV', '냉장고', '전자레인지', '컴퓨터', '선풍기', '선풍기', '믹서', '믹서']\n",
    "\n",
    "#LabelEncoder를 객체로 생성한 후, fit()과 transform()으로 레이블 인코딩 수행.\n",
    "encoder=LabelEncoder()\n",
    "encoder.fit(items)\n",
    "labels=encoder.transform(items)\n",
    "print('인코딩 변환값:', labels)"
   ]
  },
  {
   "cell_type": "markdown",
   "id": "a91f8368-77ce-40ba-b4dc-a448b16651d5",
   "metadata": {},
   "source": [
    "+) 메서드 fit()의 역할이 많은데 우선 지도학습에서 특정 레이블을 예측하기 전에 데이를 학습시키기 위해 사용, 데이터 전처리 과정에서 사이킷런을 통해 데이터를 변환하는 대부분의 로직에서 fit은 transform과 함께 사용됨. fit()은 학습 데이터 세트에서 변환을 위한 기반을 설정하는 단계이고, transform()은 fit()에서 저장한 설정값들을 기반으로 데이터를 변환하는 메세드임. \n",
    "\n",
    "+) fit_transform()은 training data에만 사용되고 왜 transfrom은 test data에만 사용하는 됨. test data는 모델이 학습된 후에 평가할 때만 사용되어야 하는데 fit_transform을 test data에도 하게 된다면 모델의 성능을 평가할 수 없기 때문."
   ]
  },
  {
   "cell_type": "code",
   "execution_count": 129,
   "id": "9ae7340c-f423-4098-833c-46127f59cf64",
   "metadata": {},
   "outputs": [
    {
     "name": "stdout",
     "output_type": "stream",
     "text": [
      "인코딩 클래스 ['TV' '냉장고' '믹서' '선풍기' '전자레인지' '컴퓨터']\n"
     ]
    }
   ],
   "source": [
    "print('인코딩 클래스',encoder.classes_)"
   ]
  },
  {
   "cell_type": "code",
   "execution_count": 130,
   "id": "ec5c761c-b31b-4470-83e7-11dd1a98e986",
   "metadata": {},
   "outputs": [
    {
     "name": "stdout",
     "output_type": "stream",
     "text": [
      "디코딩 원본값: ['전자레인지' '컴퓨터' '냉장고' '냉장고' 'TV' '믹서' '선풍기']\n"
     ]
    }
   ],
   "source": [
    "#classes_속성은 0번부터 순서대로 변환된 인코딩 값에 대한 원본값을 가지고 있음\n",
    "#질문: 가나다 순임?? \n",
    "\n",
    "print('디코딩 원본값:', encoder.inverse_transform([4,5,1,1,0,2,3]))"
   ]
  },
  {
   "cell_type": "markdown",
   "id": "05963778-ca0f-438e-b232-8c9dc31131d2",
   "metadata": {},
   "source": [
    "* 원핫 인코딩: \n",
    "\n",
    "  * 나와있는 피처만큼 행 만들고 해당 행에서 고유값을 나타내는 칼럼에만 1, 나머지는 0을 표시. 기존의 행으로 구성되 있는것을 열형태로 변환해주는 것임. 칼럼이란게 레이블 종류임.\n",
    "  * 숫자는 크고 작음에 대한 특성이 있어 레이블 인코딩시 몇몇 ml알고리즘에서 가중치가 더 부여되거나 더 중요하게 인식할 가능성으로 예측 성능이 떨어질수 있음. (트리 게열 ml알고리즘 제외:: 숫자의 특성 비교 안해서) 이러한 레이블 인코딩의 단점을 보완한게 원핫 코딩 "
   ]
  },
  {
   "cell_type": "code",
   "execution_count": 131,
   "id": "3764b2f7-7992-459c-bb40-53c3b862bf40",
   "metadata": {},
   "outputs": [
    {
     "name": "stdout",
     "output_type": "stream",
     "text": [
      "원-핫 인코딩 데이터\n",
      "[[1. 0. 0. 0. 0. 0.]\n",
      " [0. 1. 0. 0. 0. 0.]\n",
      " [0. 0. 0. 0. 1. 0.]\n",
      " [0. 0. 0. 0. 0. 1.]\n",
      " [0. 0. 0. 1. 0. 0.]\n",
      " [0. 0. 0. 1. 0. 0.]\n",
      " [0. 0. 1. 0. 0. 0.]\n",
      " [0. 0. 1. 0. 0. 0.]]\n",
      "원-핫 인코딩 데이터 차원\n",
      "(8, 6)\n"
     ]
    }
   ],
   "source": [
    "from sklearn.preprocessing import OneHotEncoder\n",
    "import numpy as np\n",
    "items=['TV', '냉장고', '전자레인지', '컴퓨터', '선풍기', '선풍기', '믹서', '믹서']\n",
    "\n",
    "#먼저 숫자 값으로 변환을 위해 LabelEncoder로 변환합니다.\n",
    "encoder=LabelEncoder()\n",
    "encoder.fit(items)\n",
    "labels=encoder.transform(items)\n",
    "\n",
    "#2차 데이터로 변환합니다.\n",
    "labels=labels.reshape(-1,1)\n",
    "\n",
    "#원-핫 인코딩을 적용합니다.\n",
    "oh_encoder=OneHotEncoder()\n",
    "oh_encoder.fit(labels)\n",
    "oh_labels=oh_encoder.transform(labels)\n",
    "print('원-핫 인코딩 데이터')\n",
    "print(oh_labels.toarray())\n",
    "print('원-핫 인코딩 데이터 차원')\n",
    "print(oh_labels.shape)\n",
    "\n",
    "#위의 결과를 통해 8개의 레코드와 1개의 칼럼을 가진 원본 데이터가 8개의 레코드와 6개의 칼럼으로 가진 데이터로 변환됨.\n",
    "#oh_labels이 sparse matrix이므로, 내용을 보기위해서 toarray() 메서드 사용"
   ]
  },
  {
   "cell_type": "code",
   "execution_count": 132,
   "id": "13ddded2-0021-46c3-b828-3075b1b2ff5d",
   "metadata": {},
   "outputs": [
    {
     "data": {
      "text/plain": [
       "<8x6 sparse matrix of type '<class 'numpy.float64'>'\n",
       "\twith 8 stored elements in Compressed Sparse Row format>"
      ]
     },
     "execution_count": 132,
     "metadata": {},
     "output_type": "execute_result"
    }
   ],
   "source": [
    "oh_labels"
   ]
  },
  {
   "cell_type": "code",
   "execution_count": 133,
   "id": "454fc21e-4e5d-45b5-89c9-821877559d37",
   "metadata": {},
   "outputs": [],
   "source": [
    "#질문이 레이블 인코딩에서 크기비교를 하는 숫자의 특성때문에 몇몇 ml알고리즘에서 가중치가 더 부여되거나 더 중요하게 \n",
    "#인식할 가능성으로 예측 성능이 떨어질수 있다고 했는데 그럼, 원-핫 인코딩 전에 레이블 인코딩해도 성능이 떨어지는 것은 아닌지?"
   ]
  },
  {
   "cell_type": "code",
   "execution_count": 134,
   "id": "8811e372-c2fa-4c6b-b38d-673f2ef01dcd",
   "metadata": {},
   "outputs": [
    {
     "data": {
      "text/html": [
       "<div>\n",
       "<style scoped>\n",
       "    .dataframe tbody tr th:only-of-type {\n",
       "        vertical-align: middle;\n",
       "    }\n",
       "\n",
       "    .dataframe tbody tr th {\n",
       "        vertical-align: top;\n",
       "    }\n",
       "\n",
       "    .dataframe thead th {\n",
       "        text-align: right;\n",
       "    }\n",
       "</style>\n",
       "<table border=\"1\" class=\"dataframe\">\n",
       "  <thead>\n",
       "    <tr style=\"text-align: right;\">\n",
       "      <th></th>\n",
       "      <th>item</th>\n",
       "    </tr>\n",
       "  </thead>\n",
       "  <tbody>\n",
       "    <tr>\n",
       "      <th>0</th>\n",
       "      <td>TV</td>\n",
       "    </tr>\n",
       "    <tr>\n",
       "      <th>1</th>\n",
       "      <td>냉장고</td>\n",
       "    </tr>\n",
       "    <tr>\n",
       "      <th>2</th>\n",
       "      <td>전자레인지</td>\n",
       "    </tr>\n",
       "    <tr>\n",
       "      <th>3</th>\n",
       "      <td>컴퓨터</td>\n",
       "    </tr>\n",
       "    <tr>\n",
       "      <th>4</th>\n",
       "      <td>선풍기</td>\n",
       "    </tr>\n",
       "    <tr>\n",
       "      <th>5</th>\n",
       "      <td>선풍기</td>\n",
       "    </tr>\n",
       "    <tr>\n",
       "      <th>6</th>\n",
       "      <td>믹서</td>\n",
       "    </tr>\n",
       "    <tr>\n",
       "      <th>7</th>\n",
       "      <td>믹서</td>\n",
       "    </tr>\n",
       "  </tbody>\n",
       "</table>\n",
       "</div>"
      ],
      "text/plain": [
       "    item\n",
       "0     TV\n",
       "1    냉장고\n",
       "2  전자레인지\n",
       "3    컴퓨터\n",
       "4    선풍기\n",
       "5    선풍기\n",
       "6     믹서\n",
       "7     믹서"
      ]
     },
     "execution_count": 134,
     "metadata": {},
     "output_type": "execute_result"
    }
   ],
   "source": [
    "import pandas as pd\n",
    "\n",
    "df=pd.DataFrame({'item':['TV', '냉장고', '전자레인지', '컴퓨터', '선풍기', '선풍기', '믹서', '믹서']})\n",
    "df"
   ]
  },
  {
   "cell_type": "code",
   "execution_count": 135,
   "id": "a30c2b86-f75e-4f1b-b2ef-1d5f0ac79930",
   "metadata": {},
   "outputs": [
    {
     "data": {
      "text/html": [
       "<div>\n",
       "<style scoped>\n",
       "    .dataframe tbody tr th:only-of-type {\n",
       "        vertical-align: middle;\n",
       "    }\n",
       "\n",
       "    .dataframe tbody tr th {\n",
       "        vertical-align: top;\n",
       "    }\n",
       "\n",
       "    .dataframe thead th {\n",
       "        text-align: right;\n",
       "    }\n",
       "</style>\n",
       "<table border=\"1\" class=\"dataframe\">\n",
       "  <thead>\n",
       "    <tr style=\"text-align: right;\">\n",
       "      <th></th>\n",
       "      <th>item_TV</th>\n",
       "      <th>item_냉장고</th>\n",
       "      <th>item_믹서</th>\n",
       "      <th>item_선풍기</th>\n",
       "      <th>item_전자레인지</th>\n",
       "      <th>item_컴퓨터</th>\n",
       "    </tr>\n",
       "  </thead>\n",
       "  <tbody>\n",
       "    <tr>\n",
       "      <th>0</th>\n",
       "      <td>1</td>\n",
       "      <td>0</td>\n",
       "      <td>0</td>\n",
       "      <td>0</td>\n",
       "      <td>0</td>\n",
       "      <td>0</td>\n",
       "    </tr>\n",
       "    <tr>\n",
       "      <th>1</th>\n",
       "      <td>0</td>\n",
       "      <td>1</td>\n",
       "      <td>0</td>\n",
       "      <td>0</td>\n",
       "      <td>0</td>\n",
       "      <td>0</td>\n",
       "    </tr>\n",
       "    <tr>\n",
       "      <th>2</th>\n",
       "      <td>0</td>\n",
       "      <td>0</td>\n",
       "      <td>0</td>\n",
       "      <td>0</td>\n",
       "      <td>1</td>\n",
       "      <td>0</td>\n",
       "    </tr>\n",
       "    <tr>\n",
       "      <th>3</th>\n",
       "      <td>0</td>\n",
       "      <td>0</td>\n",
       "      <td>0</td>\n",
       "      <td>0</td>\n",
       "      <td>0</td>\n",
       "      <td>1</td>\n",
       "    </tr>\n",
       "    <tr>\n",
       "      <th>4</th>\n",
       "      <td>0</td>\n",
       "      <td>0</td>\n",
       "      <td>0</td>\n",
       "      <td>1</td>\n",
       "      <td>0</td>\n",
       "      <td>0</td>\n",
       "    </tr>\n",
       "    <tr>\n",
       "      <th>5</th>\n",
       "      <td>0</td>\n",
       "      <td>0</td>\n",
       "      <td>0</td>\n",
       "      <td>1</td>\n",
       "      <td>0</td>\n",
       "      <td>0</td>\n",
       "    </tr>\n",
       "    <tr>\n",
       "      <th>6</th>\n",
       "      <td>0</td>\n",
       "      <td>0</td>\n",
       "      <td>1</td>\n",
       "      <td>0</td>\n",
       "      <td>0</td>\n",
       "      <td>0</td>\n",
       "    </tr>\n",
       "    <tr>\n",
       "      <th>7</th>\n",
       "      <td>0</td>\n",
       "      <td>0</td>\n",
       "      <td>1</td>\n",
       "      <td>0</td>\n",
       "      <td>0</td>\n",
       "      <td>0</td>\n",
       "    </tr>\n",
       "  </tbody>\n",
       "</table>\n",
       "</div>"
      ],
      "text/plain": [
       "   item_TV  item_냉장고  item_믹서  item_선풍기  item_전자레인지  item_컴퓨터\n",
       "0        1         0        0         0           0         0\n",
       "1        0         1        0         0           0         0\n",
       "2        0         0        0         0           1         0\n",
       "3        0         0        0         0           0         1\n",
       "4        0         0        0         1           0         0\n",
       "5        0         0        0         1           0         0\n",
       "6        0         0        1         0           0         0\n",
       "7        0         0        1         0           0         0"
      ]
     },
     "execution_count": 135,
     "metadata": {},
     "output_type": "execute_result"
    }
   ],
   "source": [
    "pd.get_dummies(df)"
   ]
  },
  {
   "cell_type": "markdown",
   "id": "c4b17493-500c-4f0a-95c3-67340d0acaf4",
   "metadata": {},
   "source": [
    "#### 피처 스케일링과 정규화"
   ]
  },
  {
   "cell_type": "markdown",
   "id": "bdeccf1d-5a6b-4749-b329-27d933a679a6",
   "metadata": {},
   "source": [
    "* 서로 다른 변수의 값 범위를 일정한 수준으로 맞추는 작업을 피처 스케일링 이라고 한다. 대표적인 방법으로 표준화와 정규화가 있다. 표준화는 데이터의 피처 각각 평균이 0이고 분산이 1인 가우시안 정규분포를 가진 값으로 변환하는 것을 의미. 정규화는 서로 다른 피처의 크기를 통일하기 위해 크기를 변환해 주는 것임. 0~1사이의 값으로. 속도와 거리로 서로 다른 피처의 크기를 통일하기 위해 0~1 사이의 값으로 변환함. 참고로 아래의 xi_new는 모두 다른 의미임.\n",
    "\n",
    "[피처 스케일링]\n",
    "-일반적인 표준화: xi_new=(xi-mean(x))/stdev(x) \n",
    "-정규화: xi_new=(xi-min(x))/(max(x)-min(x))\n",
    "  \n",
    "[벡터 정규화]\n",
    "-사이킷런에서 선형대수의 정규화 (피처가 세개일때): xi_new=xi/((xi^2+yi^2+zi^2)^0.5)\n",
    "* 정규화가 저거 뜻하는거 맞겠지?"
   ]
  },
  {
   "cell_type": "markdown",
   "id": "aa704f70-f8d3-485c-bfe2-0febbe064509",
   "metadata": {},
   "source": [
    "#### StandardScaler"
   ]
  },
  {
   "cell_type": "markdown",
   "id": "97feec80-16a7-4975-9bad-f2b0ca157140",
   "metadata": {},
   "source": [
    "* 표준화를 쉽게 지원하기 위한 클래스임. 각각의 피처를 평균이 0이고 분산이 1인 값으로 변환해줌(가우시안 정규분포)\n",
    "\n",
    "+) 사이킷런에서 구현한 RBF 커널을 이용하는 서포트 벡트 머신이나 선형 회귀, 로지스틱 회귀는 데이터가 가우시안 분포를 가지고 있다고 가정하고 구현됬기에 사전에 표준화를 적용하는 것이 예측 성능 향상에 중요한 요소가 될수 있음."
   ]
  },
  {
   "cell_type": "code",
   "execution_count": 136,
   "id": "44ccc97f-d6ea-462e-aad8-2724fe315853",
   "metadata": {},
   "outputs": [
    {
     "name": "stdout",
     "output_type": "stream",
     "text": [
      "feature 들의 평균 값\n",
      "sepal length (cm)    5.843333\n",
      "sepal width (cm)     3.057333\n",
      "petal length (cm)    3.758000\n",
      "petal width (cm)     1.199333\n",
      "dtype: float64\n",
      "\n",
      "feature 들의 분산 값\n",
      "sepal length (cm)    0.685694\n",
      "sepal width (cm)     0.189979\n",
      "petal length (cm)    3.116278\n",
      "petal width (cm)     0.581006\n",
      "dtype: float64\n"
     ]
    }
   ],
   "source": [
    "from sklearn.datasets import load_iris\n",
    "import pandas as pd\n",
    "\n",
    "#붓꽆 데이터 세트를 로딩하고 DataFrame으로 변환합니다.\n",
    "iris=load_iris()\n",
    "iris_data=iris.data\n",
    "iris_df=pd.DataFrame(data=iris_data, columns=iris.feature_names)\n",
    "\n",
    "print('feature 들의 평균 값')\n",
    "print(iris_df.mean())\n",
    "print('\\nfeature 들의 분산 값')\n",
    "print(iris_df.var())\n",
    "\n",
    "#var이 분산을 나타내는 약어"
   ]
  },
  {
   "cell_type": "code",
   "execution_count": 137,
   "id": "d35a48db-b0fa-4ef3-869f-ac1de2af9f71",
   "metadata": {},
   "outputs": [
    {
     "name": "stdout",
     "output_type": "stream",
     "text": [
      "feature 들의 평균 값\n",
      "sepal length (cm)   -1.690315e-15\n",
      "sepal width (cm)    -1.842970e-15\n",
      "petal length (cm)   -1.698641e-15\n",
      "petal width (cm)    -1.409243e-15\n",
      "dtype: float64\n",
      "\n",
      "feature 들의 분산 값\n",
      "sepal length (cm)    1.006711\n",
      "sepal width (cm)     1.006711\n",
      "petal length (cm)    1.006711\n",
      "petal width (cm)     1.006711\n",
      "dtype: float64\n"
     ]
    }
   ],
   "source": [
    "from sklearn.preprocessing import StandardScaler \n",
    "\n",
    "#StandardScaler객체 생성\n",
    "scaler=StandardScaler()\n",
    "#StandardScaler로 데이터 세트 변환. fit()과 transform() 호출\n",
    "scaler.fit(iris_df)\n",
    "iris_scaled=scaler.transform(iris_df)\n",
    "\n",
    "#transform()시 스케일 변환된 데이터 세트가 Numpy ndarray 이므로 반환돼 이를 DataFrame으로 변환\n",
    "iris_df_scaled=pd.DataFrame(data=iris_scaled, columns=iris.feature_names)\n",
    "print('feature 들의 평균 값')\n",
    "print(iris_df_scaled.mean())\n",
    "print('\\nfeature 들의 분산 값')\n",
    "print(iris_df_scaled.var())\n",
    "\n",
    "#아래 결과와 같이 모든 칼럼 값의 평균이 0에 아주 가까운 값, 분산은 1에 가까운 값으로 변환됨을 알 수 있다.\n",
    "#망충한 질문인데,, -1.690315e-15<-얘가 0이랑 가가운거야?? 최소 -15아님?? 둘다 (-)부호잖어..?"
   ]
  },
  {
   "cell_type": "markdown",
   "id": "64d877c1-0778-4cff-bab0-563131047812",
   "metadata": {},
   "source": [
    "#### MinMaxScaler"
   ]
  },
  {
   "cell_type": "markdown",
   "id": "e470f5e1-e80d-4dfe-a859-cc23f156ab95",
   "metadata": {},
   "source": [
    "* 데이터값을 0과 1사이의 범위 값으로 변환함.(음수 값이 있으면 -1에서 1로 변환함)\n",
    "\n",
    "* 질문이 데이터 분포가 가우시안 분포가 아닌경우 MinMaxScaler을 적용할수 있다는데, 가우시안 이면 평균이 1이니까 이부분을 충족 못시켜서 가우시안 일때 쓰면 안된다는 건가?"
   ]
  },
  {
   "cell_type": "code",
   "execution_count": 138,
   "id": "7ddc4e3f-dd1a-4f31-a349-3682796d3bcd",
   "metadata": {},
   "outputs": [
    {
     "name": "stdout",
     "output_type": "stream",
     "text": [
      "feature 들의 최솟값\n",
      "sepal length (cm)    0.0\n",
      "sepal width (cm)     0.0\n",
      "petal length (cm)    0.0\n",
      "petal width (cm)     0.0\n",
      "dtype: float64\n",
      "\n",
      "feature 들의 최댓값\n",
      "sepal length (cm)    1.0\n",
      "sepal width (cm)     1.0\n",
      "petal length (cm)    1.0\n",
      "petal width (cm)     1.0\n",
      "dtype: float64\n"
     ]
    }
   ],
   "source": [
    "from sklearn.preprocessing import MinMaxScaler\n",
    "\n",
    "#MinMaxScaler객체 생성\n",
    "scaler=MinMaxScaler()\n",
    "\n",
    "#MinMaxScaler로 데이터 세트 변환, fit()과 transform() 호출\n",
    "scaler.fit(iris_df)\n",
    "iris_scaled=scaler.transform(iris_df)\n",
    "\n",
    "#transform()시 스케일 변환된 데이터 세트가 Numpy ndarray이므로 반환돼 이를 DataFrame으로 변환\n",
    "iris_df_scaled=pd.DataFrame(data=iris_scaled, columns=iris.feature_names)\n",
    "print('feature 들의 최솟값')\n",
    "print(iris_df_scaled.min())\n",
    "print('\\nfeature 들의 최댓값')\n",
    "print(iris_df_scaled.max())\n",
    "\n",
    "#모든 피처에서 0~1사이 값으로 변환되는 스케일링이 적용됬음을 알 수 있다."
   ]
  },
  {
   "cell_type": "markdown",
   "id": "481a781b-1d98-442c-9206-6523a4211917",
   "metadata": {},
   "source": [
    "### 6.타이타닉으로 생존자 예측하기"
   ]
  },
  {
   "cell_type": "code",
   "execution_count": 39,
   "id": "208ec1bb-913d-4d3f-8f41-f7b7c47a3875",
   "metadata": {},
   "outputs": [
    {
     "name": "stdout",
     "output_type": "stream",
     "text": [
      "Requirement already satisfied: matplotlib in c:\\users\\hyo\\anaconda3\\envs\\py39\\lib\\site-packages (3.5.1)\n",
      "Requirement already satisfied: numpy>=1.17 in c:\\users\\hyo\\anaconda3\\envs\\py39\\lib\\site-packages (from matplotlib) (1.21.5)\n",
      "Requirement already satisfied: pillow>=6.2.0 in c:\\users\\hyo\\anaconda3\\envs\\py39\\lib\\site-packages (from matplotlib) (9.0.1)\n",
      "Requirement already satisfied: cycler>=0.10 in c:\\users\\hyo\\anaconda3\\envs\\py39\\lib\\site-packages (from matplotlib) (0.11.0)\n",
      "Requirement already satisfied: python-dateutil>=2.7 in c:\\users\\hyo\\anaconda3\\envs\\py39\\lib\\site-packages (from matplotlib) (2.8.2)\n",
      "Requirement already satisfied: kiwisolver>=1.0.1 in c:\\users\\hyo\\anaconda3\\envs\\py39\\lib\\site-packages (from matplotlib) (1.4.2)\n",
      "Requirement already satisfied: fonttools>=4.22.0 in c:\\users\\hyo\\anaconda3\\envs\\py39\\lib\\site-packages (from matplotlib) (4.31.2)\n",
      "Requirement already satisfied: packaging>=20.0 in c:\\users\\hyo\\anaconda3\\envs\\py39\\lib\\site-packages (from matplotlib) (21.3)\n",
      "Requirement already satisfied: pyparsing>=2.2.1 in c:\\users\\hyo\\anaconda3\\envs\\py39\\lib\\site-packages (from matplotlib) (3.0.7)\n",
      "Requirement already satisfied: six>=1.5 in c:\\users\\hyo\\anaconda3\\envs\\py39\\lib\\site-packages (from python-dateutil>=2.7->matplotlib) (1.16.0)\n",
      "Requirement already satisfied: seaborn in c:\\users\\hyo\\anaconda3\\envs\\py39\\lib\\site-packages (0.11.2)\n",
      "Requirement already satisfied: matplotlib>=2.2 in c:\\users\\hyo\\anaconda3\\envs\\py39\\lib\\site-packages (from seaborn) (3.5.1)\n",
      "Requirement already satisfied: scipy>=1.0 in c:\\users\\hyo\\anaconda3\\envs\\py39\\lib\\site-packages (from seaborn) (1.7.3)\n",
      "Requirement already satisfied: pandas>=0.23 in c:\\users\\hyo\\anaconda3\\envs\\py39\\lib\\site-packages (from seaborn) (1.4.1)\n",
      "Requirement already satisfied: numpy>=1.15 in c:\\users\\hyo\\anaconda3\\envs\\py39\\lib\\site-packages (from seaborn) (1.21.5)\n",
      "Requirement already satisfied: kiwisolver>=1.0.1 in c:\\users\\hyo\\anaconda3\\envs\\py39\\lib\\site-packages (from matplotlib>=2.2->seaborn) (1.4.2)\n",
      "Requirement already satisfied: pillow>=6.2.0 in c:\\users\\hyo\\anaconda3\\envs\\py39\\lib\\site-packages (from matplotlib>=2.2->seaborn) (9.0.1)\n",
      "Requirement already satisfied: python-dateutil>=2.7 in c:\\users\\hyo\\anaconda3\\envs\\py39\\lib\\site-packages (from matplotlib>=2.2->seaborn) (2.8.2)\n",
      "Requirement already satisfied: cycler>=0.10 in c:\\users\\hyo\\anaconda3\\envs\\py39\\lib\\site-packages (from matplotlib>=2.2->seaborn) (0.11.0)\n",
      "Requirement already satisfied: fonttools>=4.22.0 in c:\\users\\hyo\\anaconda3\\envs\\py39\\lib\\site-packages (from matplotlib>=2.2->seaborn) (4.31.2)\n",
      "Requirement already satisfied: packaging>=20.0 in c:\\users\\hyo\\anaconda3\\envs\\py39\\lib\\site-packages (from matplotlib>=2.2->seaborn) (21.3)\n",
      "Requirement already satisfied: pyparsing>=2.2.1 in c:\\users\\hyo\\anaconda3\\envs\\py39\\lib\\site-packages (from matplotlib>=2.2->seaborn) (3.0.7)\n",
      "Requirement already satisfied: pytz>=2020.1 in c:\\users\\hyo\\anaconda3\\envs\\py39\\lib\\site-packages (from pandas>=0.23->seaborn) (2021.3)\n",
      "Requirement already satisfied: six>=1.5 in c:\\users\\hyo\\anaconda3\\envs\\py39\\lib\\site-packages (from python-dateutil>=2.7->matplotlib>=2.2->seaborn) (1.16.0)\n"
     ]
    },
    {
     "data": {
      "text/html": [
       "<div>\n",
       "<style scoped>\n",
       "    .dataframe tbody tr th:only-of-type {\n",
       "        vertical-align: middle;\n",
       "    }\n",
       "\n",
       "    .dataframe tbody tr th {\n",
       "        vertical-align: top;\n",
       "    }\n",
       "\n",
       "    .dataframe thead th {\n",
       "        text-align: right;\n",
       "    }\n",
       "</style>\n",
       "<table border=\"1\" class=\"dataframe\">\n",
       "  <thead>\n",
       "    <tr style=\"text-align: right;\">\n",
       "      <th></th>\n",
       "      <th>PassengerId</th>\n",
       "      <th>Survived</th>\n",
       "      <th>Pclass</th>\n",
       "      <th>Name</th>\n",
       "      <th>Sex</th>\n",
       "      <th>Age</th>\n",
       "      <th>SibSp</th>\n",
       "      <th>Parch</th>\n",
       "      <th>Ticket</th>\n",
       "      <th>Fare</th>\n",
       "      <th>Cabin</th>\n",
       "      <th>Embarked</th>\n",
       "    </tr>\n",
       "  </thead>\n",
       "  <tbody>\n",
       "    <tr>\n",
       "      <th>0</th>\n",
       "      <td>1</td>\n",
       "      <td>0</td>\n",
       "      <td>3</td>\n",
       "      <td>Braund, Mr. Owen Harris</td>\n",
       "      <td>male</td>\n",
       "      <td>22.0</td>\n",
       "      <td>1</td>\n",
       "      <td>0</td>\n",
       "      <td>A/5 21171</td>\n",
       "      <td>7.2500</td>\n",
       "      <td>NaN</td>\n",
       "      <td>S</td>\n",
       "    </tr>\n",
       "    <tr>\n",
       "      <th>1</th>\n",
       "      <td>2</td>\n",
       "      <td>1</td>\n",
       "      <td>1</td>\n",
       "      <td>Cumings, Mrs. John Bradley (Florence Briggs Th...</td>\n",
       "      <td>female</td>\n",
       "      <td>38.0</td>\n",
       "      <td>1</td>\n",
       "      <td>0</td>\n",
       "      <td>PC 17599</td>\n",
       "      <td>71.2833</td>\n",
       "      <td>C85</td>\n",
       "      <td>C</td>\n",
       "    </tr>\n",
       "    <tr>\n",
       "      <th>2</th>\n",
       "      <td>3</td>\n",
       "      <td>1</td>\n",
       "      <td>3</td>\n",
       "      <td>Heikkinen, Miss. Laina</td>\n",
       "      <td>female</td>\n",
       "      <td>26.0</td>\n",
       "      <td>0</td>\n",
       "      <td>0</td>\n",
       "      <td>STON/O2. 3101282</td>\n",
       "      <td>7.9250</td>\n",
       "      <td>NaN</td>\n",
       "      <td>S</td>\n",
       "    </tr>\n",
       "  </tbody>\n",
       "</table>\n",
       "</div>"
      ],
      "text/plain": [
       "   PassengerId  Survived  Pclass  \\\n",
       "0            1         0       3   \n",
       "1            2         1       1   \n",
       "2            3         1       3   \n",
       "\n",
       "                                                Name     Sex   Age  SibSp  \\\n",
       "0                            Braund, Mr. Owen Harris    male  22.0      1   \n",
       "1  Cumings, Mrs. John Bradley (Florence Briggs Th...  female  38.0      1   \n",
       "2                             Heikkinen, Miss. Laina  female  26.0      0   \n",
       "\n",
       "   Parch            Ticket     Fare Cabin Embarked  \n",
       "0      0         A/5 21171   7.2500   NaN        S  \n",
       "1      0          PC 17599  71.2833   C85        C  \n",
       "2      0  STON/O2. 3101282   7.9250   NaN        S  "
      ]
     },
     "execution_count": 39,
     "metadata": {},
     "output_type": "execute_result"
    }
   ],
   "source": [
    "!pip install matplotlib\n",
    "!pip install seaborn\n",
    "import numpy as np\n",
    "import pandas as pd\n",
    "import matplotlib.pyplot as plt\n",
    "import seaborn as sns\n",
    "%matplotlib inline \n",
    "\n",
    "titanic_df = pd.read_csv('./train.csv')\n",
    "titanic_df.head(3)\n",
    "\n",
    "#Seaborn은 Matplotlib을 기반으로 다양한 색상 테마와 통계용 차트 등의 기능을 추가한 시각화 패키지\n",
    "#Matplotlib는 파이썬에서 데이터를 차트나 플롯(Plot)으로 그려주는 라이브러리 패키지"
   ]
  },
  {
   "cell_type": "code",
   "execution_count": 42,
   "id": "281158dd-efcd-48d9-9699-a40fabaee0af",
   "metadata": {},
   "outputs": [
    {
     "name": "stdout",
     "output_type": "stream",
     "text": [
      "\n",
      " ### 학습 데이터 정보 ### \n",
      "\n",
      "<class 'pandas.core.frame.DataFrame'>\n",
      "RangeIndex: 891 entries, 0 to 890\n",
      "Data columns (total 12 columns):\n",
      " #   Column       Non-Null Count  Dtype  \n",
      "---  ------       --------------  -----  \n",
      " 0   PassengerId  891 non-null    int64  \n",
      " 1   Survived     891 non-null    int64  \n",
      " 2   Pclass       891 non-null    int64  \n",
      " 3   Name         891 non-null    object \n",
      " 4   Sex          891 non-null    object \n",
      " 5   Age          891 non-null    float64\n",
      " 6   SibSp        891 non-null    int64  \n",
      " 7   Parch        891 non-null    int64  \n",
      " 8   Ticket       891 non-null    object \n",
      " 9   Fare         891 non-null    float64\n",
      " 10  Cabin        891 non-null    object \n",
      " 11  Embarked     891 non-null    object \n",
      "dtypes: float64(2), int64(5), object(5)\n",
      "memory usage: 83.7+ KB\n",
      "None\n"
     ]
    }
   ],
   "source": [
    "print('\\n ### 학습 데이터 정보 ### \\n')\n",
    "print(titanic_df.info())\n",
    "#DataFrame의 info()메서드를 통해 각 전체 행 수, 컬럼에 대한 정보, 결측치 있는지 없는지, 데이터 타입, 메모리 사용량 등을 확인함.\n",
    "#RangeIndex는 DataFrame 인덱스의 범위를 나타내 전체 행의 개수를 알수 있음. \n",
    "#칼럼 수는 12개, 2개의 칼럼이 float64 타입, 5개의 칼럼이 object타입임. "
   ]
  },
  {
   "cell_type": "code",
   "execution_count": 43,
   "id": "d9f5659a-8646-4a81-8b1c-c363c0d7d42b",
   "metadata": {},
   "outputs": [
    {
     "name": "stdout",
     "output_type": "stream",
     "text": [
      "데이터 세트 Null 값 개수 0\n"
     ]
    }
   ],
   "source": [
    "#사이킷런 머신러닝 알고리즘은 Null값을 허용하지 않아 DataFrame의 fillna()함수를 사용해 Null값을 평균 또는 고정 값으로 변경.\n",
    "\n",
    "titanic_df['Age'].fillna(titanic_df['Age'].mean(),inplace=True)\n",
    "titanic_df['Cabin'].fillna('N', inplace=True)\n",
    "titanic_df['Embarked'].fillna('N',inplace=True)\n",
    "print('데이터 세트 Null 값 개수', titanic_df.isnull().sum().sum())"
   ]
  },
  {
   "cell_type": "code",
   "execution_count": 44,
   "id": "b87db99a-5c96-46ef-874e-f8182a7af505",
   "metadata": {},
   "outputs": [
    {
     "name": "stdout",
     "output_type": "stream",
     "text": [
      " Sex 값 분포:\n",
      " male      577\n",
      "female    314\n",
      "Name: Sex, dtype: int64\n",
      "\n",
      " Cabin 값 분포:\n",
      " N              687\n",
      "C23 C25 C27      4\n",
      "G6               4\n",
      "B96 B98          4\n",
      "C22 C26          3\n",
      "              ... \n",
      "E34              1\n",
      "C7               1\n",
      "C54              1\n",
      "E36              1\n",
      "C148             1\n",
      "Name: Cabin, Length: 148, dtype: int64\n",
      "\n",
      " Embarked 값 분포:\n",
      " S    644\n",
      "C    168\n",
      "Q     77\n",
      "N      2\n",
      "Name: Embarked, dtype: int64\n"
     ]
    }
   ],
   "source": [
    "# 문자열로 남은 피처들의 값 분류하기\n",
    "\n",
    "print(' Sex 값 분포:\\n', titanic_df['Sex'].value_counts())\n",
    "print('\\n Cabin 값 분포:\\n', titanic_df['Cabin'].value_counts())\n",
    "print('\\n Embarked 값 분포:\\n', titanic_df['Embarked'].value_counts())"
   ]
  },
  {
   "cell_type": "code",
   "execution_count": 45,
   "id": "82542fa1-fa65-4f45-8fb0-687df4cf0481",
   "metadata": {},
   "outputs": [
    {
     "name": "stdout",
     "output_type": "stream",
     "text": [
      "0    N\n",
      "1    C\n",
      "2    N\n",
      "Name: Cabin, dtype: object\n"
     ]
    }
   ],
   "source": [
    "#Cabin(선실)의 등급별 생존자가 중요하기에 Cabin의 앞자리를 추출해보자\n",
    "\n",
    "titanic_df['Cabin']=titanic_df['Cabin'].str[:1]\n",
    "print(titanic_df['Cabin'].head(3))"
   ]
  },
  {
   "cell_type": "code",
   "execution_count": 46,
   "id": "3ec39911-cc84-4c36-b023-1cf3914a2e06",
   "metadata": {},
   "outputs": [
    {
     "data": {
      "text/plain": [
       "Sex     Survived\n",
       "female  0            81\n",
       "        1           233\n",
       "male    0           468\n",
       "        1           109\n",
       "Name: Survived, dtype: int64"
      ]
     },
     "execution_count": 46,
     "metadata": {},
     "output_type": "execute_result"
    }
   ],
   "source": [
    "#성별이 생존확률에 어떤 영향을 미쳤는지, 성별에 따른 생존자 수를 비교해 보자.\n",
    "\n",
    "titanic_df.groupby(['Sex', 'Survived'])['Survived'].count()\n",
    "#survived 0은 사망, 1은 생존이다."
   ]
  },
  {
   "cell_type": "code",
   "execution_count": 47,
   "id": "685ed88e-08dd-4c16-a3e4-f08c2fcde86d",
   "metadata": {},
   "outputs": [
    {
     "data": {
      "text/plain": [
       "<AxesSubplot:xlabel='Pclass', ylabel='Survived'>"
      ]
     },
     "execution_count": 47,
     "metadata": {},
     "output_type": "execute_result"
    },
    {
     "data": {
      "image/png": "[encoded data removed]",
      "text/plain": [
       "<Figure size 432x288 with 1 Axes>"
      ]
     },
     "metadata": {
      "needs_background": "light"
     },
     "output_type": "display_data"
    }
   ],
   "source": [
    "sns.barplot(x='Pclass', y='Survived', hue='Sex', data=titanic_df)"
   ]
  },
  {
   "cell_type": "code",
   "execution_count": 48,
   "id": "edc2a574-fa71-4c29-ab8f-f4e89e38ca0f",
   "metadata": {},
   "outputs": [
    {
     "data": {
      "image/png": "[encoded data removed]",
      "text/plain": [
       "<Figure size 720x432 with 1 Axes>"
      ]
     },
     "metadata": {
      "needs_background": "light"
     },
     "output_type": "display_data"
    }
   ],
   "source": [
    "#Age에 따른 생존확률 알아보자.\n",
    "#입력 age에 따라 구분 값을 반환하는 함수'get_category'를 def로 설정해줌. \n",
    "#age에 어떤 값을 넣어줄진 모르지만 <=-1이면 Unknown값 나오게 하는 함수 'get_category' def를 통해 정의함.\n",
    "def get_category(age):\n",
    "    cat='' # 구분 카테고리를 담을 빈 str 생성\n",
    "    if age <=-1: cat='Unknown'\n",
    "    elif age <=5: cat='Baby'\n",
    "    elif age <=12: cat='Child'\n",
    "    elif age <=18: cat='Teenager'\n",
    "    elif age <=25: cat='Student'\n",
    "    elif age <=35: cat='Young Adult'\n",
    "    elif age <=60: cat='Adult'\n",
    "    else : cat='Elderly'\n",
    "    \n",
    "    return cat\n",
    "    \n",
    "#막대그래프의 크기 figure를 더 크게 설정\n",
    "plt.figure(figsize=(10,6))\n",
    "\n",
    "#X축의 값을 순차적으로 표시하기 위한 설정\n",
    "group_names=['Unkown','Baby','Child','Teenager','Student','Young Adult','Adult','Elderly']\n",
    "\n",
    "\n",
    "#lambda가 함수 get_category(x)를 적용해준다는 거임.\n",
    "#titanic_df의 칼럼 'Age' 값을 get_category(x)의 x에 넣어주고 이에 반환값을 titanic_df의 칼럼 'Age_cat'에 따른 피처값으로 넣어줌.\n",
    "titanic_df['Age_cat']=titanic_df['Age'].apply(lambda x: get_category(x))\n",
    "sns.barplot(x='Age_cat', y='Survived',hue='Sex', data=titanic_df, order=group_names)\n",
    "\n",
    "#그래프에서 나이별 분류, 즉 Age_cat의 칼럼을 그려주기 위해 추가 한거니까 그래프 그리고, 다시 해당 칼럼을 삭제해줌. \n",
    "titanic_df.drop('Age_cat', axis=1, inplace=True) \n",
    "\n",
    "#위의 과정은 그래프에 그리기 위해 데이터 프레임에 칼럼 추가하고/ 그래프 그리고/ 다시 삭제하는 과정임."
   ]
  },
  {
   "cell_type": "code",
   "execution_count": 49,
   "id": "59a8da55-d806-49f4-bb5d-152a96081cfb",
   "metadata": {},
   "outputs": [
    {
     "data": {
      "text/html": [
       "<div>\n",
       "<style scoped>\n",
       "    .dataframe tbody tr th:only-of-type {\n",
       "        vertical-align: middle;\n",
       "    }\n",
       "\n",
       "    .dataframe tbody tr th {\n",
       "        vertical-align: top;\n",
       "    }\n",
       "\n",
       "    .dataframe thead th {\n",
       "        text-align: right;\n",
       "    }\n",
       "</style>\n",
       "<table border=\"1\" class=\"dataframe\">\n",
       "  <thead>\n",
       "    <tr style=\"text-align: right;\">\n",
       "      <th></th>\n",
       "      <th>PassengerId</th>\n",
       "      <th>Survived</th>\n",
       "      <th>Pclass</th>\n",
       "      <th>Name</th>\n",
       "      <th>Sex</th>\n",
       "      <th>Age</th>\n",
       "      <th>SibSp</th>\n",
       "      <th>Parch</th>\n",
       "      <th>Ticket</th>\n",
       "      <th>Fare</th>\n",
       "      <th>Cabin</th>\n",
       "      <th>Embarked</th>\n",
       "    </tr>\n",
       "  </thead>\n",
       "  <tbody>\n",
       "    <tr>\n",
       "      <th>0</th>\n",
       "      <td>1</td>\n",
       "      <td>0</td>\n",
       "      <td>3</td>\n",
       "      <td>Braund, Mr. Owen Harris</td>\n",
       "      <td>1</td>\n",
       "      <td>22.0</td>\n",
       "      <td>1</td>\n",
       "      <td>0</td>\n",
       "      <td>A/5 21171</td>\n",
       "      <td>7.2500</td>\n",
       "      <td>7</td>\n",
       "      <td>3</td>\n",
       "    </tr>\n",
       "    <tr>\n",
       "      <th>1</th>\n",
       "      <td>2</td>\n",
       "      <td>1</td>\n",
       "      <td>1</td>\n",
       "      <td>Cumings, Mrs. John Bradley (Florence Briggs Th...</td>\n",
       "      <td>0</td>\n",
       "      <td>38.0</td>\n",
       "      <td>1</td>\n",
       "      <td>0</td>\n",
       "      <td>PC 17599</td>\n",
       "      <td>71.2833</td>\n",
       "      <td>2</td>\n",
       "      <td>0</td>\n",
       "    </tr>\n",
       "    <tr>\n",
       "      <th>2</th>\n",
       "      <td>3</td>\n",
       "      <td>1</td>\n",
       "      <td>3</td>\n",
       "      <td>Heikkinen, Miss. Laina</td>\n",
       "      <td>0</td>\n",
       "      <td>26.0</td>\n",
       "      <td>0</td>\n",
       "      <td>0</td>\n",
       "      <td>STON/O2. 3101282</td>\n",
       "      <td>7.9250</td>\n",
       "      <td>7</td>\n",
       "      <td>3</td>\n",
       "    </tr>\n",
       "    <tr>\n",
       "      <th>3</th>\n",
       "      <td>4</td>\n",
       "      <td>1</td>\n",
       "      <td>1</td>\n",
       "      <td>Futrelle, Mrs. Jacques Heath (Lily May Peel)</td>\n",
       "      <td>0</td>\n",
       "      <td>35.0</td>\n",
       "      <td>1</td>\n",
       "      <td>0</td>\n",
       "      <td>113803</td>\n",
       "      <td>53.1000</td>\n",
       "      <td>2</td>\n",
       "      <td>3</td>\n",
       "    </tr>\n",
       "    <tr>\n",
       "      <th>4</th>\n",
       "      <td>5</td>\n",
       "      <td>0</td>\n",
       "      <td>3</td>\n",
       "      <td>Allen, Mr. William Henry</td>\n",
       "      <td>1</td>\n",
       "      <td>35.0</td>\n",
       "      <td>0</td>\n",
       "      <td>0</td>\n",
       "      <td>373450</td>\n",
       "      <td>8.0500</td>\n",
       "      <td>7</td>\n",
       "      <td>3</td>\n",
       "    </tr>\n",
       "  </tbody>\n",
       "</table>\n",
       "</div>"
      ],
      "text/plain": [
       "   PassengerId  Survived  Pclass  \\\n",
       "0            1         0       3   \n",
       "1            2         1       1   \n",
       "2            3         1       3   \n",
       "3            4         1       1   \n",
       "4            5         0       3   \n",
       "\n",
       "                                                Name  Sex   Age  SibSp  Parch  \\\n",
       "0                            Braund, Mr. Owen Harris    1  22.0      1      0   \n",
       "1  Cumings, Mrs. John Bradley (Florence Briggs Th...    0  38.0      1      0   \n",
       "2                             Heikkinen, Miss. Laina    0  26.0      0      0   \n",
       "3       Futrelle, Mrs. Jacques Heath (Lily May Peel)    0  35.0      1      0   \n",
       "4                           Allen, Mr. William Henry    1  35.0      0      0   \n",
       "\n",
       "             Ticket     Fare  Cabin  Embarked  \n",
       "0         A/5 21171   7.2500      7         3  \n",
       "1          PC 17599  71.2833      2         0  \n",
       "2  STON/O2. 3101282   7.9250      7         3  \n",
       "3            113803  53.1000      2         3  \n",
       "4            373450   8.0500      7         3  "
      ]
     },
     "execution_count": 49,
     "metadata": {},
     "output_type": "execute_result"
    }
   ],
   "source": [
    "from sklearn.preprocessing import LabelEncoder\n",
    "from sklearn import preprocessing\n",
    "\n",
    "#함수 encode_features 를/ dataDF에 들어갈/ 임의의 데이터 프레임의 어떤 칼럼(features)을 레이블 인코딩하도록/ 설정함.\n",
    "def encode_features(dataDF):\n",
    "    features=['Cabin', 'Sex', 'Embarked']\n",
    "    for feature in features:\n",
    "        le=preprocessing.LabelEncoder()\n",
    "        le=le.fit(dataDF[feature])\n",
    "        dataDF[feature]=le.transform(dataDF[feature])\n",
    "    \n",
    "    return dataDF\n",
    "\n",
    "titanic_df=encode_features(titanic_df)\n",
    "titanic_df.head()\n",
    "\n",
    "#'Cabin', 'Sex', 'Embarked' 속성이 숫자형으로 바뀐것을 알 수 있음.\n",
    "# 참고로 위위위위에서 titanic_df['Cabin']=titanic_df['Cabin'].str[:1] 해서 선실 앞자리 별로 레이블 인코딩 됨."
   ]
  },
  {
   "cell_type": "code",
   "execution_count": 50,
   "id": "438e4d8b-0f51-484d-be4f-36698b0172d9",
   "metadata": {},
   "outputs": [],
   "source": [
    "#지금까지 피러츷 가공한 내역을 정리하고 한꺼번에 불러올수 있는 transform_features 함수 만들어줌.\n",
    "#(임의의 df를 설정하여 함수를 만든거임.)\n",
    "\n",
    "#Null 처리 함수\n",
    "def fillna(df):\n",
    "    df['Age'].fillna(df['Age'].mean(), inplace=True)\n",
    "    df['Cabin'].fillna('N', inplace=True)\n",
    "    df['Embarked'].fillna('N', inplace=True)\n",
    "    df['Fare'].fillna(0, inplace=True)\n",
    "    return df\n",
    "\n",
    "#머신러닝 알고리즘에 불필요한 속성 제거\n",
    "def drop_features(df):\n",
    "    df.drop(['PassengerId', 'Name', 'Ticket'], axis=1, inplace=True)\n",
    "    return df\n",
    "\n",
    "#레이블 인코딩 수행\n",
    "def format_features(df):\n",
    "    df['Cabin']=df['Cabin'].str[:1]\n",
    "    features=['Cabin', 'Sex', 'Embarked']\n",
    "    for feature in features:\n",
    "        le=LabelEncoder()\n",
    "        le=le.fit(df[feature])\n",
    "        df[feature]=le.transform(df[feature])\n",
    "    return df\n",
    "\n",
    "#앞에서 설정한 데이터 전처리 함수 호출( 위에 나온 3개를 모두 수행하는 함수)\n",
    "def transform_features(df):\n",
    "    df=fillna(df)\n",
    "    df=drop_features(df)\n",
    "    df=format_features(df)\n",
    "    return df\n",
    "\n",
    "### 위 세 함수 모두 마지막에 return df를 입력해주었는데\n",
    "### 그렇게 함으로써 아래에서 df=df, df=df, df=df 를 통해 df를 함수를 이용한 결과로 업데이트 해줄 수 있다."
   ]
  },
  {
   "cell_type": "code",
   "execution_count": 51,
   "id": "da0aa96c-fe45-4240-aadf-284413e9f364",
   "metadata": {},
   "outputs": [],
   "source": [
    "#원본 데이터를 재로딩하고, 피처 데이터 세트와 레이블 데이터 세트 추출\n",
    "titanic_df=pd.read_csv('./train.csv')\n",
    "y_titanic_df=titanic_df['Survived'] #생존값을 y에 넣어줌(들어가는 값은 0,1)\n",
    "X_titanic_df=titanic_df.drop('Survived', axis=1) #y에 넣줬으니까 X에는 빼줌)\n",
    "\n",
    "X_titanic_df=transform_features(X_titanic_df) #X에서 전처리 해줌"
   ]
  },
  {
   "cell_type": "code",
   "execution_count": 52,
   "id": "5be20714-4d79-4c45-a80d-2ce31dc3d340",
   "metadata": {},
   "outputs": [],
   "source": [
    "from sklearn.model_selection import train_test_split\n",
    "X_train, X_test, y_train, y_test=train_test_split(X_titanic_df, y_titanic_df, test_size=0.2, random_state=11)"
   ]
  },
  {
   "cell_type": "code",
   "execution_count": 53,
   "id": "6777ea40-7985-495f-a070-b7ed51ddf99d",
   "metadata": {},
   "outputs": [
    {
     "name": "stdout",
     "output_type": "stream",
     "text": [
      "DecisionTreeClassifier 정확도:0.7877\n",
      "RandomForestClassifier 정확도:0.8547\n",
      "LogisticRegression 정확도:0.8492\n"
     ]
    },
    {
     "name": "stderr",
     "output_type": "stream",
     "text": [
      "C:\\Users\\hyo\\anaconda3\\envs\\py39\\lib\\site-packages\\sklearn\\linear_model\\_logistic.py:814: ConvergenceWarning: lbfgs failed to converge (status=1):\n",
      "STOP: TOTAL NO. of ITERATIONS REACHED LIMIT.\n",
      "\n",
      "Increase the number of iterations (max_iter) or scale the data as shown in:\n",
      "    https://scikit-learn.org/stable/modules/preprocessing.html\n",
      "Please also refer to the documentation for alternative solver options:\n",
      "    https://scikit-learn.org/stable/modules/linear_model.html#logistic-regression\n",
      "  n_iter_i = _check_optimize_result(\n"
     ]
    }
   ],
   "source": [
    "from sklearn.tree import DecisionTreeClassifier\n",
    "from sklearn.ensemble import RandomForestClassifier\n",
    "from sklearn.linear_model import LogisticRegression\n",
    "from sklearn.metrics import accuracy_score\n",
    "\n",
    "#결정트리, Random Forest, 로지스틱 회귀를 이한 사이킷런 Classifier 클래스 생성\n",
    "dt_clf=DecisionTreeClassifier(random_state=11)\n",
    "rf_clf=RandomForestClassifier(random_state=11)\n",
    "lr_clf=LogisticRegression()\n",
    "\n",
    "#DecisionTreeClassifier 학습/예측/평가\n",
    "dt_clf.fit(X_train, y_train)\n",
    "dt_pred=dt_clf.predict(X_test)\n",
    "print('DecisionTreeClassifier 정확도:{0:.4f}'.format(accuracy_score(y_test, dt_pred)))\n",
    "\n",
    "# RandomForestClassifier 학습/예측/평가\n",
    "rf_clf.fit(X_train, y_train)\n",
    "rf_pred=rf_clf.predict(X_test)\n",
    "print('RandomForestClassifier 정확도:{0:.4f}'.format(accuracy_score(y_test, rf_pred)))\n",
    "\n",
    "# LogisticRegression 학습/예측/평가 ###이산적인 데이터인데 회귀로 예측할 수도 있음. 꼭 연속적인 것만 해야 하는건 아님\n",
    "lr_clf.fit(X_train, y_train)\n",
    "lr_pred=lr_clf.predict(X_test)\n",
    "print('LogisticRegression 정확도:{0:.4f}'.format(accuracy_score(y_test, lr_pred)))\n",
    "\n",
    "#LogisticRegression의 정확도가 가장 높게 나왔지만 아직 최적화 작업을 수행하지 않았고, \n",
    "#데이터 양도 충분하지 않기에 어떤 알고리즘이 가장 좋다고 말할순 없음."
   ]
  },
  {
   "cell_type": "code",
   "execution_count": 54,
   "id": "7bb9d83d-32e8-43b9-906a-e820e779d3eb",
   "metadata": {},
   "outputs": [
    {
     "name": "stdout",
     "output_type": "stream",
     "text": [
      "교차 검증 0 정확도: 0.7542\n",
      "교차 검증 1 정확도: 0.7809\n",
      "교차 검증 2 정확도: 0.7865\n",
      "교차 검증 3 정확도: 0.7697\n",
      "교차 검증 4 정확도: 0.8202\n",
      "평균 정확도: 0.7823\n"
     ]
    }
   ],
   "source": [
    "from sklearn.model_selection import KFold\n",
    "\n",
    "def exec_kfold(clf, folds=5):\n",
    "    #폴드 세트를 5개인 KFold객체를 생성, 폴드 수만큼 예측결과 저장을 위한 리스트 객체 생성.\n",
    "    kfold=KFold(n_splits=folds)\n",
    "    scores=[]\n",
    "    \n",
    "    #KFold 교차 검증 수행.\n",
    "    #enumerate란 리스트나 튜플같이 하나씩 불러올때 해당 원소가 몇번째인지 알려주는 거임.\n",
    "    for iter_count, (train_index, test_index) in enumerate(kfold.split(X_titanic_df)):\n",
    "        #X_train_df 데이터에서 교차 검증별로 학습과 검증 데이터를 가리키는 index 생성\n",
    "        X_train, X_test=X_titanic_df.values[train_index], X_titanic_df.values[test_index]\n",
    "        y_train, y_test=y_titanic_df.values[train_index], y_titanic_df.values[test_index]\n",
    "        #Classifier 학습, 예측, 정확도 계산\n",
    "        clf.fit(X_train, y_train)\n",
    "        predictions=clf.predict(X_test)\n",
    "        accuracy=accuracy_score(y_test, predictions)\n",
    "        scores.append(accuracy)\n",
    "        print(\"교차 검증 {0} 정확도: {1:.4f}\".format(iter_count, accuracy))\n",
    "        \n",
    "    #5개 fold에서의 평균 정확도 계산\n",
    "    mean_score=np.mean(scores)\n",
    "    print(\"평균 정확도: {0:.4f}\".format(mean_score))\n",
    "#exec_kfold 호출\n",
    "exec_kfold(dt_clf, folds=5) \n",
    "\n",
    "#질문이 왜 학습 k폴드로 나눠줄때 y_titanic_df은 빼고 해주는 거임???\n",
    "#-어 왜냐면 그건 straified kfold에서만 해주는 거라서. kfold에선 안해줘도 됨.\n",
    "#질문이 iter_count=0안해도 1,2,3,4,5나오는 이유\n",
    "#-그건 enumerate해줬기 때문, 기본이 0부터 시작이고 star=값 설정해주면 그에 따라 시작이 달라질수 있음."
   ]
  },
  {
   "cell_type": "code",
   "execution_count": 88,
   "id": "61f125c8-922d-4828-9689-0f1950163cd1",
   "metadata": {},
   "outputs": [
    {
     "data": {
      "text/html": [
       "<div>\n",
       "<style scoped>\n",
       "    .dataframe tbody tr th:only-of-type {\n",
       "        vertical-align: middle;\n",
       "    }\n",
       "\n",
       "    .dataframe tbody tr th {\n",
       "        vertical-align: top;\n",
       "    }\n",
       "\n",
       "    .dataframe thead th {\n",
       "        text-align: right;\n",
       "    }\n",
       "</style>\n",
       "<table border=\"1\" class=\"dataframe\">\n",
       "  <thead>\n",
       "    <tr style=\"text-align: right;\">\n",
       "      <th></th>\n",
       "      <th>Pclass</th>\n",
       "      <th>Sex</th>\n",
       "      <th>Age</th>\n",
       "      <th>SibSp</th>\n",
       "      <th>Parch</th>\n",
       "      <th>Fare</th>\n",
       "      <th>Cabin</th>\n",
       "      <th>Embarked</th>\n",
       "    </tr>\n",
       "  </thead>\n",
       "  <tbody>\n",
       "    <tr>\n",
       "      <th>0</th>\n",
       "      <td>3</td>\n",
       "      <td>1</td>\n",
       "      <td>22.000000</td>\n",
       "      <td>1</td>\n",
       "      <td>0</td>\n",
       "      <td>7.2500</td>\n",
       "      <td>7</td>\n",
       "      <td>3</td>\n",
       "    </tr>\n",
       "    <tr>\n",
       "      <th>1</th>\n",
       "      <td>1</td>\n",
       "      <td>0</td>\n",
       "      <td>38.000000</td>\n",
       "      <td>1</td>\n",
       "      <td>0</td>\n",
       "      <td>71.2833</td>\n",
       "      <td>2</td>\n",
       "      <td>0</td>\n",
       "    </tr>\n",
       "    <tr>\n",
       "      <th>2</th>\n",
       "      <td>3</td>\n",
       "      <td>0</td>\n",
       "      <td>26.000000</td>\n",
       "      <td>0</td>\n",
       "      <td>0</td>\n",
       "      <td>7.9250</td>\n",
       "      <td>7</td>\n",
       "      <td>3</td>\n",
       "    </tr>\n",
       "    <tr>\n",
       "      <th>3</th>\n",
       "      <td>1</td>\n",
       "      <td>0</td>\n",
       "      <td>35.000000</td>\n",
       "      <td>1</td>\n",
       "      <td>0</td>\n",
       "      <td>53.1000</td>\n",
       "      <td>2</td>\n",
       "      <td>3</td>\n",
       "    </tr>\n",
       "    <tr>\n",
       "      <th>4</th>\n",
       "      <td>3</td>\n",
       "      <td>1</td>\n",
       "      <td>35.000000</td>\n",
       "      <td>0</td>\n",
       "      <td>0</td>\n",
       "      <td>8.0500</td>\n",
       "      <td>7</td>\n",
       "      <td>3</td>\n",
       "    </tr>\n",
       "    <tr>\n",
       "      <th>...</th>\n",
       "      <td>...</td>\n",
       "      <td>...</td>\n",
       "      <td>...</td>\n",
       "      <td>...</td>\n",
       "      <td>...</td>\n",
       "      <td>...</td>\n",
       "      <td>...</td>\n",
       "      <td>...</td>\n",
       "    </tr>\n",
       "    <tr>\n",
       "      <th>886</th>\n",
       "      <td>2</td>\n",
       "      <td>1</td>\n",
       "      <td>27.000000</td>\n",
       "      <td>0</td>\n",
       "      <td>0</td>\n",
       "      <td>13.0000</td>\n",
       "      <td>7</td>\n",
       "      <td>3</td>\n",
       "    </tr>\n",
       "    <tr>\n",
       "      <th>887</th>\n",
       "      <td>1</td>\n",
       "      <td>0</td>\n",
       "      <td>19.000000</td>\n",
       "      <td>0</td>\n",
       "      <td>0</td>\n",
       "      <td>30.0000</td>\n",
       "      <td>1</td>\n",
       "      <td>3</td>\n",
       "    </tr>\n",
       "    <tr>\n",
       "      <th>888</th>\n",
       "      <td>3</td>\n",
       "      <td>0</td>\n",
       "      <td>29.699118</td>\n",
       "      <td>1</td>\n",
       "      <td>2</td>\n",
       "      <td>23.4500</td>\n",
       "      <td>7</td>\n",
       "      <td>3</td>\n",
       "    </tr>\n",
       "    <tr>\n",
       "      <th>889</th>\n",
       "      <td>1</td>\n",
       "      <td>1</td>\n",
       "      <td>26.000000</td>\n",
       "      <td>0</td>\n",
       "      <td>0</td>\n",
       "      <td>30.0000</td>\n",
       "      <td>2</td>\n",
       "      <td>0</td>\n",
       "    </tr>\n",
       "    <tr>\n",
       "      <th>890</th>\n",
       "      <td>3</td>\n",
       "      <td>1</td>\n",
       "      <td>32.000000</td>\n",
       "      <td>0</td>\n",
       "      <td>0</td>\n",
       "      <td>7.7500</td>\n",
       "      <td>7</td>\n",
       "      <td>2</td>\n",
       "    </tr>\n",
       "  </tbody>\n",
       "</table>\n",
       "<p>891 rows × 8 columns</p>\n",
       "</div>"
      ],
      "text/plain": [
       "     Pclass  Sex        Age  SibSp  Parch     Fare  Cabin  Embarked\n",
       "0         3    1  22.000000      1      0   7.2500      7         3\n",
       "1         1    0  38.000000      1      0  71.2833      2         0\n",
       "2         3    0  26.000000      0      0   7.9250      7         3\n",
       "3         1    0  35.000000      1      0  53.1000      2         3\n",
       "4         3    1  35.000000      0      0   8.0500      7         3\n",
       "..      ...  ...        ...    ...    ...      ...    ...       ...\n",
       "886       2    1  27.000000      0      0  13.0000      7         3\n",
       "887       1    0  19.000000      0      0  30.0000      1         3\n",
       "888       3    0  29.699118      1      2  23.4500      7         3\n",
       "889       1    1  26.000000      0      0  30.0000      2         0\n",
       "890       3    1  32.000000      0      0   7.7500      7         2\n",
       "\n",
       "[891 rows x 8 columns]"
      ]
     },
     "execution_count": 88,
     "metadata": {},
     "output_type": "execute_result"
    }
   ],
   "source": [
    "X_titanic_df"
   ]
  },
  {
   "cell_type": "code",
   "execution_count": 90,
   "id": "0d5557ce-c537-4ae4-99ea-a584c8ff47ed",
   "metadata": {},
   "outputs": [
    {
     "data": {
      "text/plain": [
       "0      0\n",
       "1      1\n",
       "2      1\n",
       "3      1\n",
       "4      0\n",
       "      ..\n",
       "886    0\n",
       "887    1\n",
       "888    0\n",
       "889    1\n",
       "890    0\n",
       "Name: Survived, Length: 891, dtype: int64"
      ]
     },
     "execution_count": 90,
     "metadata": {},
     "output_type": "execute_result"
    }
   ],
   "source": [
    "y_titanic_df"
   ]
  },
  {
   "cell_type": "code",
   "execution_count": 93,
   "id": "1fac356f-2d60-4217-8174-f54f0b8426bb",
   "metadata": {},
   "outputs": [
    {
     "ename": "NameError",
     "evalue": "name 'train_index' is not defined",
     "output_type": "error",
     "traceback": [
      "\u001b[1;31m---------------------------------------------------------------------------\u001b[0m",
      "\u001b[1;31mNameError\u001b[0m                                 Traceback (most recent call last)",
      "Input \u001b[1;32mIn [93]\u001b[0m, in \u001b[0;36m<cell line: 1>\u001b[1;34m()\u001b[0m\n\u001b[1;32m----> 1\u001b[0m \u001b[43mtrain_index\u001b[49m\n",
      "\u001b[1;31mNameError\u001b[0m: name 'train_index' is not defined"
     ]
    }
   ],
   "source": [
    "train_index\n",
    "\n",
    "#train_index가 정의되지 않는 이유는 def로 함수를 설정했고, 그 안에 있기 때문. \n",
    "# 함수 안에서 정의한거면 쓸수 없음- 이런걸 지역변수라고 함.\n",
    "#함수밖에 for문으로 돌린거면 train_index의 값이 나옴- 이런걸 전역변수라 함."
   ]
  },
  {
   "cell_type": "markdown",
   "id": "9f33fb7a-c594-4c05-bcde-bd92c56c667f",
   "metadata": {},
   "source": [
    "* 지역변수와 전역변수"
   ]
  },
  {
   "cell_type": "code",
   "execution_count": 97,
   "id": "343f044d-6b4c-4538-86cd-51ba0f727bc3",
   "metadata": {},
   "outputs": [],
   "source": [
    "a=4"
   ]
  },
  {
   "cell_type": "code",
   "execution_count": 98,
   "id": "16a178f5-d99a-4a5c-a122-6a4e4cdcd941",
   "metadata": {},
   "outputs": [],
   "source": [
    "def function():\n",
    "    a=2\n",
    "    print(a)"
   ]
  },
  {
   "cell_type": "code",
   "execution_count": 99,
   "id": "d91da633-8207-4c72-abf3-8cbf6720d472",
   "metadata": {},
   "outputs": [
    {
     "name": "stdout",
     "output_type": "stream",
     "text": [
      "2\n"
     ]
    }
   ],
   "source": [
    "function()"
   ]
  },
  {
   "cell_type": "code",
   "execution_count": 100,
   "id": "ca0f9a94-db0a-44e5-ae5b-ada9895f21a5",
   "metadata": {},
   "outputs": [
    {
     "data": {
      "text/plain": [
       "4"
      ]
     },
     "execution_count": 100,
     "metadata": {},
     "output_type": "execute_result"
    }
   ],
   "source": [
    "a\n",
    "#맨 위에서 a=4를 안써줬으면 에러나왔을거임. 함수안에서 정의된 a는 지역변수라 나올수 없어서."
   ]
  },
  {
   "cell_type": "code",
   "execution_count": 55,
   "id": "82f5d244-92fb-4d65-be71-b4f7e36116f0",
   "metadata": {},
   "outputs": [
    {
     "name": "stdout",
     "output_type": "stream",
     "text": [
      "교차 검증 0 정확도: 0.7430\n",
      "교차 검증 1 정확도: 0.7753\n",
      "교차 검증 2 정확도: 0.7921\n",
      "교차 검증 3 정확도: 0.7865\n",
      "교차 검증 4 정확도: 0.8427\n",
      "평균 정확도: 0.7879\n"
     ]
    }
   ],
   "source": [
    "#cross_val_score() 이용해 구해보기-얘는 stratifed kfold이용함\n",
    "from sklearn.model_selection import cross_val_score\n",
    "\n",
    "scores=cross_val_score(dt_clf, X_titanic_df, y_titanic_df, cv=5)\n",
    "for iter_count, accuracy in enumerate(scores):\n",
    "    print(\"교차 검증 {0} 정확도: {1:.4f}\".format(iter_count, accuracy))\n",
    "    \n",
    "print(\"평균 정확도: {0:.4f}\".format(np.mean(scores)))"
   ]
  },
  {
   "cell_type": "code",
   "execution_count": 56,
   "id": "938afd11-4abc-4939-8743-3b6101a1c7fa",
   "metadata": {},
   "outputs": [
    {
     "name": "stdout",
     "output_type": "stream",
     "text": [
      "GridSearchCV 최적 하이퍼 파라미터: {'max_depth': 3, 'min_samples_leaf': 5, 'min_samples_split': 2}\n",
      "GridSearchCV 최고 정확도: 0.7992\n",
      "테스트 세트에서의 DecisionTreeClassifier 정확도: 0.8715\n"
     ]
    }
   ],
   "source": [
    "#GridSearchCV를 이용해 DecisionTreeClassifier(dt_clf)의 최적의 하이퍼 파라미터 찾고 성능 예측하기\n",
    "\n",
    "from sklearn.model_selection import GridSearchCV\n",
    "\n",
    "parameters={'max_depth':[2,3,5,10],\n",
    "            'min_samples_split':[2,3,5], 'min_samples_leaf':[1,5,8]}\n",
    "grid_dclf=GridSearchCV(dt_clf, param_grid=parameters, scoring='accuracy', cv=5)\n",
    "grid_dclf.fit(X_train, y_train)\n",
    "\n",
    "print('GridSearchCV 최적 하이퍼 파라미터:', grid_dclf.best_params_)\n",
    "print('GridSearchCV 최고 정확도: {0:.4f}'.format(grid_dclf.best_score_))\n",
    "best_dclf=grid_dclf.best_estimator_\n",
    "\n",
    "#GridSearchCV의 최적 하이퍼 파라미터로 학습된 Estimator로 예측 및 평가 수행.\n",
    "dpredictions=best_dclf.predict(X_test)\n",
    "accuracy=accuracy_score(y_test, dpredictions)\n",
    "print('테스트 세트에서의 DecisionTreeClassifier 정확도: {0:.4f}'.format(accuracy))\n",
    "\n",
    "#하이퍼 파라미터 변경 전보다 약 0.08이상 증가\n",
    "#테스트용 데이터 세트가 작기 때문에 수치상으로 예측 성능이 많이 증가한 것 처럼 보임."
   ]
  },
  {
   "cell_type": "markdown",
   "id": "a1257564-5dad-441b-8267-cf41bee7a3bf",
   "metadata": {},
   "source": [
    "## 평가"
   ]
  },
  {
   "cell_type": "markdown",
   "id": "ceb80859-45eb-467d-bdc0-0fb153426458",
   "metadata": {},
   "source": [
    "* 머신러닝은 데이터 가공/변환, 모델 학습/예측, 긜고 평가의 과정으로 구성됩니다. 성능 평가 지표는 일반적으로 모델이 분류냐 회귀냐에 따라 여러 종류로 나뉩니다. \n",
    "  * 회귀의 경우 대부분 실제 값과 예측값의 오차 평균값에 기반합니다(기본적으로 예측 오차를 가지고 정규화 수준을 재가공 하는 방법). \n",
    "  * 분류의 평가 방법은 정확도만 가지고 판단했다가는 잘못된 평가 결과에 빠질 수 있음. 특히 이진 분류에서는 정확도보다는 다른 성능 평가 지표가 더 중시됨.\n",
    "    * 분류의 성능 평가 지표: 정확도, 오차행렬, 정밀도, 재한율, F1 스코오, ROC AUC \n",
    "    * 분류는 결정 클래스 값 종류 유형에 따라 2개의 결과값만 가지는 이진 분류와 여러개의 결정 클래스 값을 가지는 멀티 분류로 나뉨. 특히 이진 분류에서 성능 평가 지표가 중요함."
   ]
  },
  {
   "cell_type": "markdown",
   "id": "17440f20-5ae8-4437-8a82-9d61ab3d3f85",
   "metadata": {},
   "source": [
    "### 정확도\n",
    "* 정확도: 예측 결과가 동일한 데이터 건수/전체 예측 데이터 건수\n",
    "* 정확도는 직관적으로 모델 예측 성능을 나타내는 지표이지만 이진 분류의 경우 데이터의 구성에 따라 ml모델의 성능을 왜곡할 수 있음. 그래서 정확도 말고 다른 성능 지표들이 필요함."
   ]
  },
  {
   "cell_type": "markdown",
   "id": "0671d87c-e0f1-4dcc-a51e-92261ae2c738",
   "metadata": {},
   "source": [
    "#### 이진분류에서 정확도 지표가 어떻게 ml모델의 성능을 왜곡할까\n",
    "* 타이타닉의 예측 결과에서 여자의 생존률이 남자보다 높게 나오는데 전체 요소를 배제하고 성별만으로 예측해도 이와 비슷한  성능 결과가 나옴->단순 이진분류인 성별로 예측도의 정확성을 높임"
   ]
  },
  {
   "cell_type": "markdown",
   "id": "3103c1b4-45fb-4b4b-b318-e7768fb5980a",
   "metadata": {},
   "source": [
    "* DummyClassifier란 피처값을 무시하고 더 간단하게 비교 할수 있게 해주는 거임. The specific behavior of the baseline is selected with the strategy parameter."
   ]
  },
  {
   "cell_type": "code",
   "execution_count": 34,
   "id": "9bbf88b0-7b4d-4d77-ab2f-d7214cfa3925",
   "metadata": {},
   "outputs": [],
   "source": [
    "#BaseEstimator를 통해 아무런 학습을 하지 않고, 성별에 따라 생존자를 예측하는 Classifier 생성\n",
    "#얘로 지금 예측하겠다는게 아니라 이런 일을 수행하는 함수를 만들어 준것일 뿐\n",
    "\n",
    "from sklearn.base import BaseEstimator\n",
    "\n",
    "class MyDummyClassifier(BaseEstimator):\n",
    "    # fit()메서드는 아무것도 학습하지 않음.\n",
    "    def fit(self, X, y=None):\n",
    "        pass\n",
    "    #predict()메서드는 단순히 피처가 1이면 0, 아니면 1로 예측\n",
    "    def predict (self, X):\n",
    "        pred=np.zeros( (X.shape[0], 1)) #zeros 함수는 0으로 채워진 배열을 만듦( X의 행수 만큼 행, 열은 1개),\n",
    "                                        #pred를 업더이트 시켜주기 위해 임의로 값 채워놓은것 뿐\n",
    "        for i in range (X.shape[0]):\n",
    "            if X['Sex'].iloc[i]==1:\n",
    "                pred[i]=0\n",
    "            else:\n",
    "                pred[i]=1\n",
    "            \n",
    "        return pred"
   ]
  },
  {
   "cell_type": "code",
   "execution_count": 35,
   "id": "7ab130f0-d1c1-4a13-839f-ab99a96a9216",
   "metadata": {},
   "outputs": [],
   "source": [
    "from sklearn.preprocessing import LabelEncoder\n",
    "from sklearn import preprocessing\n",
    "\n",
    "def fillna(df):\n",
    "    df['Age'].fillna(df['Age'].mean(), inplace=True)\n",
    "    df['Cabin'].fillna('N', inplace=True)\n",
    "    df['Embarked'].fillna('N', inplace=True)\n",
    "    df['Fare'].fillna(0, inplace=True)\n",
    "    return df\n",
    "\n",
    "#머신러닝 알고리즘에 불필요한 속성 제거\n",
    "def drop_features(df):\n",
    "    df.drop(['PassengerId', 'Name', 'Ticket'], axis=1, inplace=True)\n",
    "    return df\n",
    "\n",
    "#레이블 인코딩 수행\n",
    "def format_features(df):\n",
    "    df['Cabin']=df['Cabin'].str[:1]\n",
    "    features=['Cabin', 'Sex', 'Embarked']\n",
    "    for feature in features:\n",
    "        le=LabelEncoder()\n",
    "        le=le.fit(df[feature])\n",
    "        df[feature]=le.transform(df[feature])\n",
    "    return df\n",
    "\n",
    "#앞에서 설정한 데이터 전처리 함수 호출( 위에 나온 3개를 모두 수행하는 함수)\n",
    "def transform_features(df):\n",
    "    df=fillna(df)\n",
    "    df=drop_features(df)\n",
    "    df=format_features(df)\n",
    "    return df"
   ]
  },
  {
   "cell_type": "code",
   "execution_count": 36,
   "id": "827bd844-a24f-4fa1-9015-1b50bc56fa96",
   "metadata": {},
   "outputs": [
    {
     "name": "stdout",
     "output_type": "stream",
     "text": [
      "Dummy Classifier의 정확도: 0.7877\n"
     ]
    }
   ],
   "source": [
    "import pandas as pd\n",
    "import numpy as np\n",
    "from sklearn.model_selection import train_test_split\n",
    "from sklearn.metrics import accuracy_score\n",
    "\n",
    "titanic_df=pd.read_csv('./train.csv') #원본 데이터를 재로딩\n",
    "y_titanic_df=titanic_df['Survived'] #데이터 가공\n",
    "X_titanic_df=titanic_df.drop('Survived', axis=1) \n",
    "X_titanic_df=transform_features(X_titanic_df) #데이터 전처리\n",
    "X_train, X_test, y_train, y_test=train_test_split(X_titanic_df, y_titanic_df, test_size=0.2, random_state=0) #학습 데이터/테스트 데이터 분할\n",
    "\n",
    "#위에서 생성한 Dummy Classifier를 이용해 학습/에측/평가 수행\n",
    "myclf=MyDummyClassifier()\n",
    "myclf.fit(X_train, y_train)\n",
    "\n",
    "mypredictions=myclf.predict(X_test)\n",
    "print('Dummy Classifier의 정확도: {0:.4f}'.format(accuracy_score(y_test, mypredictions)))"
   ]
  },
  {
   "cell_type": "markdown",
   "id": "599b9101-9af5-48f5-88e5-6fbf877ef2ea",
   "metadata": {},
   "source": [
    "* #MNIST 데이터 세트를 변환해 불균형한 데이터 세트로 만든 후 정확도 지표 적용시 어떤 문제점이 있는지 알아보자"
   ]
  },
  {
   "cell_type": "code",
   "execution_count": 97,
   "id": "77c5971b-34d8-4758-a3fa-a9bb4e13b702",
   "metadata": {},
   "outputs": [],
   "source": [
    "from sklearn.datasets import load_digits\n",
    "from sklearn.model_selection import train_test_split\n",
    "from sklearn.base import BaseEstimator\n",
    "from sklearn.metrics import accuracy_score\n",
    "import numpy as np\n",
    "import pandas as pd\n",
    "#Dummy Classifier를 생성하기\n",
    "class MyFakeClassifier(BaseEstimator):\n",
    "    def fit(self, X, y): #얘는 그냥 X,y를 받을수 있다는 의미..? 밑에 pass쓴거는 함수만 쓰면 컴파일 돌렷을 때 오류날수 있어서 쓴거.\n",
    "        pass\n",
    "    \n",
    "    #입력값으로 들어오는 X 데이터 세트의 크기만큼 모두 0값으로 만들어서 반환, 위의 X와 같은거 넣으란거 아님\n",
    "    def predict(self, X):\n",
    "        return np.zeros( (len(X), 1), dtype=bool) # bool은 (True or False)을 바이트 형식으로 저장해 놓은것\n",
    "    \n",
    "#불균형한 데이터와 세트 만들기 \n",
    "#사이킷런의 내장 데이터 세트인 load_digits()를 이용해 MNIST 데이터 로딩, digits이 모든 문자열을 숫자열로 바꿔주는 것으 의미함.\n",
    "digits=load_digits()\n",
    "\n",
    "#digits 번호가 7번이면 True이고 이를 astype(int)로 1로 변환, 7번이 아니면 false이고 0으로 변환\n",
    "y=(digits.target==7).astype(int)\n",
    "X_train, X_test, y_train, y_test=train_test_split(digits.data, y, random_state=11)"
   ]
  },
  {
   "cell_type": "code",
   "execution_count": 98,
   "id": "5fe94e86-79e1-4f0c-b3ac-1a3db72bfe8e",
   "metadata": {},
   "outputs": [
    {
     "data": {
      "text/plain": [
       "array([[ 0.,  0.,  5., ...,  0.,  0.,  0.],\n",
       "       [ 0.,  0.,  0., ..., 10.,  0.,  0.],\n",
       "       [ 0.,  0.,  0., ..., 16.,  9.,  0.],\n",
       "       ...,\n",
       "       [ 0.,  0.,  1., ...,  6.,  0.,  0.],\n",
       "       [ 0.,  0.,  2., ..., 12.,  0.,  0.],\n",
       "       [ 0.,  0., 10., ..., 12.,  1.,  0.]])"
      ]
     },
     "execution_count": 98,
     "metadata": {},
     "output_type": "execute_result"
    }
   ],
   "source": [
    "digits.data"
   ]
  },
  {
   "cell_type": "code",
   "execution_count": 43,
   "id": "8a1fd249-8a7c-4a77-b5d7-bd2613b81e87",
   "metadata": {},
   "outputs": [
    {
     "data": {
      "text/plain": [
       "array([0, 1, 2, ..., 8, 9, 8])"
      ]
     },
     "execution_count": 43,
     "metadata": {},
     "output_type": "execute_result"
    }
   ],
   "source": [
    "digits.target"
   ]
  },
  {
   "cell_type": "code",
   "execution_count": 45,
   "id": "8bee8eb1-7e1e-49b9-aa75-48164b574937",
   "metadata": {},
   "outputs": [
    {
     "data": {
      "text/plain": [
       "array([[ 0.,  0.,  7., ...,  3.,  0.,  0.],\n",
       "       [ 0.,  0.,  0., ...,  0.,  0.,  0.],\n",
       "       [ 0.,  0.,  6., ...,  0.,  0.,  0.],\n",
       "       ...,\n",
       "       [ 0.,  1., 13., ..., 15.,  3.,  0.],\n",
       "       [ 0.,  0.,  0., ...,  1.,  0.,  0.],\n",
       "       [ 0.,  0.,  0., ..., 12.,  0.,  0.]])"
      ]
     },
     "execution_count": 45,
     "metadata": {},
     "output_type": "execute_result"
    }
   ],
   "source": [
    "X_test"
   ]
  },
  {
   "cell_type": "code",
   "execution_count": 44,
   "id": "2a69864c-3044-489f-ad08-d15210365651",
   "metadata": {},
   "outputs": [
    {
     "data": {
      "text/plain": [
       "array([0, 0, 0, 0, 0, 0, 0, 0, 0, 0, 0, 0, 0, 0, 0, 0, 0, 0, 0, 0, 0, 0,\n",
       "       0, 0, 0, 0, 0, 0, 0, 0, 1, 0, 0, 0, 0, 0, 0, 0, 0, 1, 0, 0, 0, 0,\n",
       "       0, 0, 0, 0, 0, 0, 0, 0, 0, 0, 0, 0, 0, 0, 0, 0, 0, 1, 0, 0, 0, 1,\n",
       "       0, 0, 0, 0, 0, 0, 1, 0, 0, 0, 0, 1, 1, 0, 0, 0, 0, 0, 0, 0, 0, 1,\n",
       "       0, 0, 0, 0, 0, 0, 0, 0, 0, 0, 0, 0, 0, 0, 0, 0, 0, 1, 0, 0, 0, 0,\n",
       "       1, 0, 0, 0, 0, 0, 0, 0, 0, 0, 0, 0, 0, 0, 0, 0, 0, 0, 0, 0, 0, 0,\n",
       "       0, 0, 0, 0, 0, 0, 0, 0, 0, 0, 0, 1, 0, 1, 0, 0, 0, 1, 0, 0, 0, 0,\n",
       "       0, 0, 0, 0, 0, 0, 0, 0, 0, 0, 0, 0, 1, 0, 0, 0, 0, 0, 0, 0, 0, 0,\n",
       "       0, 1, 0, 0, 0, 0, 0, 0, 0, 0, 0, 0, 0, 0, 0, 0, 0, 0, 0, 0, 0, 1,\n",
       "       0, 0, 0, 0, 0, 0, 0, 1, 0, 0, 0, 0, 0, 0, 0, 0, 0, 0, 1, 0, 0, 1,\n",
       "       1, 0, 0, 1, 0, 0, 0, 1, 0, 0, 0, 0, 0, 0, 0, 0, 0, 0, 0, 0, 0, 0,\n",
       "       0, 0, 0, 0, 0, 0, 0, 0, 0, 0, 0, 0, 0, 0, 0, 0, 0, 0, 0, 0, 0, 0,\n",
       "       1, 0, 0, 0, 0, 0, 0, 0, 1, 1, 0, 0, 0, 0, 0, 0, 0, 0, 0, 0, 0, 0,\n",
       "       0, 1, 0, 0, 0, 0, 0, 0, 0, 0, 0, 0, 0, 0, 0, 0, 1, 0, 0, 0, 1, 0,\n",
       "       0, 0, 0, 0, 0, 0, 0, 0, 0, 1, 1, 0, 0, 0, 0, 0, 0, 0, 0, 0, 0, 0,\n",
       "       0, 0, 0, 0, 0, 1, 0, 0, 0, 1, 0, 0, 0, 1, 0, 0, 0, 1, 0, 0, 0, 0,\n",
       "       0, 0, 1, 0, 0, 0, 1, 0, 1, 0, 0, 0, 0, 0, 0, 0, 0, 0, 0, 0, 0, 1,\n",
       "       0, 0, 0, 0, 0, 0, 0, 0, 0, 0, 0, 0, 0, 0, 0, 1, 0, 0, 0, 0, 1, 0,\n",
       "       1, 0, 0, 0, 0, 0, 0, 0, 0, 0, 0, 0, 0, 0, 0, 0, 0, 0, 0, 0, 0, 0,\n",
       "       0, 0, 0, 1, 0, 0, 0, 0, 0, 0, 0, 1, 1, 1, 0, 0, 0, 0, 0, 0, 0, 0,\n",
       "       0, 0, 0, 0, 0, 0, 0, 0, 0, 0])"
      ]
     },
     "execution_count": 44,
     "metadata": {},
     "output_type": "execute_result"
    }
   ],
   "source": [
    "y_test"
   ]
  },
  {
   "cell_type": "code",
   "execution_count": 99,
   "id": "90205791-7fcb-4d16-b0f1-7f604f7b6b19",
   "metadata": {},
   "outputs": [
    {
     "name": "stdout",
     "output_type": "stream",
     "text": [
      "레이블 테스트 세트 크기: (450,)\n",
      "테스트 세트 레이블 0과 1의 분포도\n",
      "0    405\n",
      "1     45\n",
      "dtype: int64\n",
      "모든 예측을 0으로 하여도 정확도는: 0.900\n"
     ]
    }
   ],
   "source": [
    "#y_test의 데이터 분포도를 확인하고 위에서 만든 MyFakeClassifier를 이용해 예측과 평가 수행하기\n",
    "\n",
    "#불균형한 레이블 분포도 확인\n",
    "print('레이블 테스트 세트 크기:', y_test.shape) #[].shape이 (몇행,몇열) 인지 나옴\n",
    "print('테스트 세트 레이블 0과 1의 분포도')\n",
    "print(pd.Series(y_test).value_counts())\n",
    "\n",
    "#Dummy Classifier로 학습/예측/정확도 평가\n",
    "fakeclf=MyFakeClassifier()\n",
    "fakeclf.fit(X_train, y_train) # <-얜 걍 형식상 해주는건데 딱히 의미 없음\n",
    "fakepred=fakeclf.predict(X_test)\n",
    "print('모든 예측을 0으로 하여도 정확도는: {:.3f}'.format(accuracy_score(y_test, fakepred)))\n",
    "\n",
    "#모든 것을 0으로 예측하는 MyFakeClassifier의 정확도가 너무 높게 나옴.\n",
    "#그래서 밑에서 True/False, Positivw/Negative로 4분면으로 구성되는 오차행렬에 대해 배워보자."
   ]
  },
  {
   "cell_type": "code",
   "execution_count": null,
   "id": "1f323992-c99d-4379-8b72-dfd4c02227b3",
   "metadata": {},
   "outputs": [],
   "source": [
    "#fakepred<-당연한 거지만 얘 실행하면 전부 false(0)나옴"
   ]
  },
  {
   "cell_type": "code",
   "execution_count": 100,
   "id": "7323cfc2-d427-4fa7-b707-c1bc94fc78f2",
   "metadata": {},
   "outputs": [
    {
     "data": {
      "text/plain": [
       "array([0, 0, 1, ..., 0, 0, 0])"
      ]
     },
     "execution_count": 100,
     "metadata": {},
     "output_type": "execute_result"
    }
   ],
   "source": [
    "y_train"
   ]
  },
  {
   "cell_type": "code",
   "execution_count": 38,
   "id": "bb681d45-5714-44aa-9789-92a30138dad3",
   "metadata": {},
   "outputs": [
    {
     "data": {
      "text/plain": [
       "array([[ 0.,  0.,  3., ..., 12., 14.,  7.],\n",
       "       [ 0.,  1.,  9., ..., 10.,  1.,  0.],\n",
       "       [ 0.,  0.,  0., ...,  0.,  0.,  0.],\n",
       "       ...,\n",
       "       [ 0.,  0.,  1., ..., 16., 13.,  1.],\n",
       "       [ 0.,  1., 11., ..., 13., 16.,  5.],\n",
       "       [ 0.,  0.,  6., ...,  6.,  0.,  0.]])"
      ]
     },
     "execution_count": 38,
     "metadata": {},
     "output_type": "execute_result"
    }
   ],
   "source": [
    "X_train"
   ]
  },
  {
   "cell_type": "code",
   "execution_count": 39,
   "id": "21ccb789-0500-4f23-8309-3c51b82e424e",
   "metadata": {},
   "outputs": [
    {
     "data": {
      "text/plain": [
       "array([[ 0.,  0.,  7., ...,  3.,  0.,  0.],\n",
       "       [ 0.,  0.,  0., ...,  0.,  0.,  0.],\n",
       "       [ 0.,  0.,  6., ...,  0.,  0.,  0.],\n",
       "       ...,\n",
       "       [ 0.,  1., 13., ..., 15.,  3.,  0.],\n",
       "       [ 0.,  0.,  0., ...,  1.,  0.,  0.],\n",
       "       [ 0.,  0.,  0., ..., 12.,  0.,  0.]])"
      ]
     },
     "execution_count": 39,
     "metadata": {},
     "output_type": "execute_result"
    }
   ],
   "source": [
    "X_test"
   ]
  },
  {
   "cell_type": "markdown",
   "id": "59367266-f44a-4979-9390-a417b14605f9",
   "metadata": {},
   "source": [
    "*  인스턴스란 특정한 값 없이 이런 기능을 한다는 코드를 이런 기능 쓰기 위해 매개변수 넣어 주는 것을 말함. 클래스를 객체화한거라고 보면됨. 클래스란 비슷한 기능을 하는 함수를 모아놓은 느낌..?임. 예를 들어 클래스가 계산기라고 하면 그 안의 덧셈, 뺄셈 등의 기능을 모아놓은거임. \n",
    "*  self 란게 객체의 인스턴스 그 자체를 말한다. 즉, 객체 자기 자신을 참조하는 매개변수인 셈임"
   ]
  },
  {
   "cell_type": "markdown",
   "id": "83bf8afe-39e4-4b12-b159-f4f4f3bafe63",
   "metadata": {},
   "source": [
    "## 03 평가"
   ]
  },
  {
   "cell_type": "markdown",
   "id": "f397082e-8c93-44c1-89a3-c28803f98585",
   "metadata": {},
   "source": [
    "### 오차행렬"
   ]
  },
  {
   "cell_type": "markdown",
   "id": "2bf2aece-5125-4953-b725-927a804c37d9",
   "metadata": {},
   "source": [
    "* [[TN ////    FP \n",
    "       FN ////TP]]\n",
    "* 이진 분류에서 성능 지표로 잘 활용됨\n",
    "* 이진 분류의 예측 오류가 얼마인지와 더불어// 어떠한 유형의 예측 오류가 발생하고 있는지를 함께 나타내주는 지표.\n",
    "* 4분면 행렬에서 실제 레이블 클래스 값과 예측 레이블 클래스 값이 어떠한 유형을 가지고 매칭되는 지를 나타냄.\n",
    "  * 앞 문자 True/False는 예측값과 실제값이 '같은가/다른가'를 의미하고 뒤문자 Positive/Negative 는 예측 결과 값이 부정(0)/긍정(1)을 의미함.\n",
    "  * ex) TN은 True Negative라는 의미이며 앞 True는 예측 클래스값과 실제 클래스 값이 같다는 의미이고, 뒤의 Negative는 예측값이 Negative라는 의미이다. 즉 예측을 Negative(0)으로 예측했는데, 실제 값도 Negative(0)이라는 의미이다. \n",
    "  * TN, FP, FN, TP로 나오는 값을 조합하여 정확도, 정밀도, 재현율 값을 알 수 있음.\n",
    " "
   ]
  },
  {
   "cell_type": "code",
   "execution_count": 101,
   "id": "4f682260-ef93-4162-8c2e-e3a868f7e602",
   "metadata": {},
   "outputs": [
    {
     "data": {
      "text/plain": [
       "array([[405,   0],\n",
       "       [ 45,   0]], dtype=int64)"
      ]
     },
     "execution_count": 101,
     "metadata": {},
     "output_type": "execute_result"
    }
   ],
   "source": [
    "#사이킷런은 오차행렬을 구하기 위해 confusion_matrix()API를 제공함\n",
    "#MyFakeClassifier의 예측결과인 fakepred와 실제 결과인 y_test를  \n",
    "#confusion_matrix()의 인자로 입력헤 오차행렬을 confusion_matrix()를 이용해 배열 형태로 출력\n",
    "\n",
    "from sklearn.metrics import confusion_matrix\n",
    "\n",
    "confusion_matrix(y_test, fakepred) ###질문이 아니 y_test는 왜 안에 같이 써주는 거임?"
   ]
  },
  {
   "cell_type": "code",
   "execution_count": 102,
   "id": "259417a7-5618-4bac-a45b-daf3e7da8b7c",
   "metadata": {},
   "outputs": [],
   "source": [
    "#위에꺼가 무슨말이냐면, 오차행렬에서 쓴 4분면 위치 그대로 해석해서 \n",
    "#TN 자리인 405의 의미는 0이라 에측했는데 0나온게 405개\n",
    "#FP 자리인 0의 의미는 0이라 예측했는데 1나온게 0개 ---> 그럴수 밖에 없는게 fakepred에서 0만 나오게 했으니까 1이 나올수 없음\n",
    "#FN 자리인 45의 의미는 1이라 예측했는데 0나온게 45개\n",
    "#TP 자리인 0의 의미는 1이라고 예측했는데 1나온게 0개---> 얘도 이럴수 밖에 없는게 0만 나오게 설정해서 그럼 위위 말처럼"
   ]
  },
  {
   "cell_type": "code",
   "execution_count": 7,
   "id": "71affb0e-83f9-4fe7-890a-f6d2572eb474",
   "metadata": {},
   "outputs": [],
   "source": [
    "#TN: array[0,0] - 음성(0)이라 예측했는데, 음성(0)이 나옴\n",
    "#FP: array[0,1] - 음성(0)이라 예측했는데, 양성(1)이 나옴\n",
    "#FN: array[1,0] - 양성(1)이라 예측했는데, 음성(0)이 나옴\n",
    "#TP: array[1,1] - 양성(0)이라 예측했는데, 양성(0)이 나옴"
   ]
  },
  {
   "cell_type": "markdown",
   "id": "7ff66671-edf3-4589-b0fb-75c5f8d957ca",
   "metadata": {},
   "source": [
    "### 정확도"
   ]
  },
  {
   "cell_type": "markdown",
   "id": "9939cf49-4e23-4661-80ee-8bbe7005de82",
   "metadata": {},
   "source": [
    "* 정확도는 예측값과 실제 값이 얼마나 동일한가에 대한 비율만으로 결정된다. 즉 오차행렬에서 True에 해당하는 값인 TN과 TP에 좌우된다. 정확도는 오차 행렬상에서 다음과 같이 정의될 수 있다. \n",
    "* 정확도=예측 결과와 실제 값이 동일한 건수/ 전체 데이터 수 =(TN+TP)/(TN+FP+FN+TP)\n",
    "* 일반적으로 불균형한 레이블 클래스를 가지는 이진 분류 모델에서는 많은 데이터 중에서 찾고자 하는 매우 적은 수의 결괏값에 Positive를 설정해 1값을 부여하고, 그렇지 않은 경우는 Negative로 0값을 부여하는 경우가 많다.(암:1, 건강:0)"
   ]
  },
  {
   "cell_type": "markdown",
   "id": "6c41e41c-60ce-4671-b67e-1cd0a2650ced",
   "metadata": {},
   "source": [
    "* 불균형한 데이터 세트에서 정확도만으로는 성능이 떨어지는 이유:\n",
    "  * 불균형한 이진 분류 데이터 세트에서 Positive 데이터 건수가 매우 작기에 데이터에 기반한 ML알고리즘은 Positve 보다 Negative로 예측할 경향이 더 강해져 TN은 커지고 TP는 작아지게 된다. 또한 Negative로 예측할 때 정확도가 높아지기 때문에 FN이 매우 작고, Positive로 예측하는 경우가 작기에 FP역시 작아지게 된다. \n",
    "  * 결과적으로 정확도 지표는 비대칭한 데이터 세트에서 Positive에 대한 예측 정확도를 판단하지 못한 채 Negative에 대한 예측 정확도만으로 분류의 정확도가 매우 높게 나타나는 수치적 판단 오류를 일으킴."
   ]
  },
  {
   "cell_type": "markdown",
   "id": "54181f87-9321-4e93-9145-0be775e802cf",
   "metadata": {},
   "source": [
    "### 정밀도와 재현율"
   ]
  },
  {
   "cell_type": "markdown",
   "id": "a9f6ebcf-5cad-44ab-bff5-5ddd60e7b510",
   "metadata": {},
   "source": [
    "* 정밀도와 재현율은 Positive 데이터 세트의 예측 성능에 좀 더 초첨을 맞춘 평가 지표이다. 앞서 만든 MyClassifier는 Positive(1)으로 예측한 TP값이 없기에 정밀도와 재현율 값이 모두 0이다."
   ]
  },
  {
   "cell_type": "markdown",
   "id": "6f0aa016-10b5-4920-b26e-e50aa1bd1102",
   "metadata": {},
   "source": [
    "* 정밀도= TP/(FP+TP) :: Positive로 예측한 대상 중에 예측값과 실제 값이 Positive로 일치한 데이터 건수 (비율)\n",
    "  *  Positive 예측 성능을 더욱 정밀하게 측정하기 위한 평가 지표로 양성 예측이라고도 함"
   ]
  },
  {
   "cell_type": "markdown",
   "id": "32a1c3a5-1e35-443c-8fdb-539e5de75d52",
   "metadata": {},
   "source": [
    "* 재현율= TP/(FN+TP) :: 실제 값이 Positive인 대상 중 예측값과 실제 값이 Positive로 일치한 데이터 건수 (비율)\n",
    "  *  민감도 또는 TPR이라고도 함."
   ]
  },
  {
   "cell_type": "markdown",
   "id": "472971ed-7126-4216-abd2-90cecb47797b",
   "metadata": {},
   "source": [
    "* 재현율과 정밀도는 이진분류를 하는 상황에 따라 둘중 무엇이 더 중요하다고 간주될 수 있음. 보통 적게 나오는 것을 양성(1)으로 설정하여 요주인물로 보고 흔히 나오는 것을 음성(0)이라 다룸. 양성을 음성이라 했을때 큰일 나는 상황에는 재현율, 음성을 양성이라 했을때 큰일나는 상황엔 정밀도가 더 중요하다.\n",
    "* 재현율과 정밀도는 모두 TP을 높이는 초점을 두 지만, 재현율은 FN을 낮추는데, 정밀도는 FP를 낮추는데 초점을 둔다.<-서로 보완적인 지표로 분류의 성능을 평가하는데 적용됨."
   ]
  },
  {
   "cell_type": "code",
   "execution_count": 123,
   "id": "dec9eeec-bec9-4f5e-8478-e78ba5e8c7ec",
   "metadata": {},
   "outputs": [],
   "source": [
    "#앞의 타이타닉 예제에서는 정확도에만 초점을 맞췄지만, 이벤엔 오차행렬 및 정밀도, 재현율을 모두 구해 측정하자.\n",
    "#사이킷런은 정밀도 계산을 위해 precision_score()를, 재현율 계산을 위해 recall_score()를 API로 제공한다\n",
    "#오차행렬 구하는 confusion_matrix, 정확도 위한 accuracy, 정밀도 위한 precision, 재현율 위한 recall을 한번에 호출하는 함수 get_clf_eval()\n",
    "\n",
    "from sklearn.metrics import accuracy_score, precision_score, recall_score, confusion_matrix\n",
    "\n",
    "def get_clf_eval(y_test, pred):\n",
    "    confusion=confusion_matrix(y_test, pred)\n",
    "    accuracy=accuracy_score(y_test, pred)\n",
    "    precision=precision_score(y_test, pred)\n",
    "    recall=recall_score(y_test, pred)\n",
    "    print('오차행렬')\n",
    "    print(confusion)\n",
    "    print('정확도:{0:.4f}, 정밀도:{1:.4f}, 재현율:{2:.4f}'.format(accuracy, precision, recall))"
   ]
  },
  {
   "cell_type": "code",
   "execution_count": 170,
   "id": "34207067-fcb0-4784-99e1-c2ac30ebe6dd",
   "metadata": {},
   "outputs": [
    {
     "name": "stdout",
     "output_type": "stream",
     "text": [
      "오차 행렬\n",
      "[[108  10]\n",
      " [ 14  47]]\n",
      "정확도: 0.8659, 정밀도: 0.8246, 재현율: 0.7705\n"
     ]
    }
   ],
   "source": [
    "#이제 로지스틱 회귀 기반으로 타이타닉 생존자를 에측하고 get_clf_eval() 해주기\n",
    "import numpy as np\n",
    "import pandas as pd\n",
    "from sklearn.model_selection import train_test_split\n",
    "from sklearn.linear_model import LogisticRegression ###질문이 회귀는 연속적인 값을 예측하는건데 왜나옴? 분류 의사결정 트리가 나와야 하지 않음?\n",
    "\n",
    "#원본 데이터를 재로딩, 데이터 가공, 학습 데이터/테스트 데이터 분할\n",
    "titanic_df=pd.read_csv('./train.csv')\n",
    "y_titanic_df=titanic_df['Survived']\n",
    "X_titanic_df=titanic_df.drop('Survived', axis=1)\n",
    "X_titanic_df=transform_features(X_titanic_df) \n",
    "\n",
    "X_train, X_test, y_train, y_test=train_test_split(X_titanic_df, y_titanic_df, test_size=0.20, random_state=11)\n",
    "\n",
    "lr_clf=LogisticRegression()\n",
    "lr_clf = LogisticRegression(solver='liblinear') #최적화에 사용할 알고리즘이 solver이고 'liblinear'가 그 종류\n",
    "lr_clf.fit(X_train, y_train)\n",
    "pred=lr_clf.predict(X_test)\n",
    "\n",
    "get_clf_eval(y_test, pred)  "
   ]
  },
  {
   "cell_type": "markdown",
   "id": "fa3dd893-e4cd-4995-a74f-15e5611e137e",
   "metadata": {},
   "source": [
    "#### 정밀도/재현율 트레이드 오프"
   ]
  },
  {
   "cell_type": "markdown",
   "id": "533e0062-9a83-4262-b481-43b598ac68ce",
   "metadata": {},
   "source": [
    "* 정밀도 또는 재현율이 특별히 강조돼야 할 경우 분류의 결정 임곗값을 조정해 정밀도 또는 재현율의 수치를 높일 수 있다. 둘은 상호 보완적인 평가 지표이기에 어느 한쪽을 강제로 높이면 다른 하나의 수치는 떨어지기 쉬움. 이를 정밀도/재현율의 트레이드오프라고 함.\n",
    "* 이진 분류 모델에서 특정 데이터가 0이 될 확률이 10%, 1이 될 확률이 90%로 예측됐다면 최종예측은 더 큰 확률을 가진 1로 예측함. 일반적으로 이진 분류엣는 이 임계값을 0.5, 50%로 정하고 이 기준 값보다 확률이 크녀 P아니면 N으로 결정함.\n",
    "* 임계값  \n",
    "  *  확률 결정의 기준이 됨\n",
    "  * 분류 결정 임계값은 Psitive 예측값을 결정하는 확률의 기준이 됨"
   ]
  },
  {
   "cell_type": "code",
   "execution_count": 52,
   "id": "4c36ee76-ac86-4968-97c2-49dc5c01fa13",
   "metadata": {},
   "outputs": [],
   "source": [
    "# predict_proba()는...\n",
    "#사이킷런을 개별 데이터별로 예측 확률을 반환하는 메서드인 predict_proba()를 제공함.\n",
    "#학습이 완료된 사이킷런 Classifier 객체에서 호출이 가능하며 테스트 피처 세트를 파라미터로 입력해주면\n",
    "#테스트 피처 레코드의 개별 클래스 예측 확률을 반환해줌.\n",
    "#차이점은 반환결과가 predict()->예측 결과 클래스 값, predict_proba()->예측 확률 결과\n",
    "#반환되는 ndarray는 첫 번째 칼럼이 클래스 값 0에 대한 예측확률, 두 번째 칼럼이 클래스 값 1에 대한 에측 확률임."
   ]
  },
  {
   "cell_type": "code",
   "execution_count": 163,
   "id": "317210c0-e4c2-4b24-af77-e998a823374c",
   "metadata": {},
   "outputs": [
    {
     "name": "stdout",
     "output_type": "stream",
     "text": [
      "pred_proba() 결과 Shape : (179, 2)\n",
      "pred_proba array에서 앞 3개만 샘플로 추출 \n",
      ": [[0.44935225 0.55064775]\n",
      " [0.86335511 0.13664489]\n",
      " [0.86429643 0.13570357]]\n",
      "두 개의 class 중에서 더 큰 확률을 클래스 값으로 예측 \n",
      " [[0.44935225 0.55064775 1.        ]\n",
      " [0.86335511 0.13664489 0.        ]\n",
      " [0.86429643 0.13570357 0.        ]]\n"
     ]
    }
   ],
   "source": [
    "pred_proba=lr_clf.predict_proba(X_test)\n",
    "print('pred_proba() 결과 Shape : {0}'.format(pred_proba.shape))\n",
    "print('pred_proba array에서 앞 3개만 샘플로 추출 \\n:',pred_proba[:3])\n",
    "\n",
    "#예측 확률 array와 예측 결괏값 array를 병합(concatenate)해 예측 확률과 결괏값을 한눈에 확인\n",
    "pred=lr_clf.predict(X_test)\n",
    "pred_proba_result=np.concatenate([pred_proba, pred.reshape(-1,1)], axis=1) #shape에서 음수도 같이 있을때는, 양수는 먼저 열 배열후 \n",
    "                                                                           #음수는 가변적으로 알어서 행 배열의미.\n",
    "\n",
    "print('두 개의 class 중에서 더 큰 확률을 클래스 값으로 예측 \\n', pred_proba_result[:3])   ###어디서 부터 잘못됬니,,,"
   ]
  },
  {
   "cell_type": "code",
   "execution_count": 59,
   "id": "7ce5748d-1992-4ec2-8e8a-1b019a24f177",
   "metadata": {},
   "outputs": [
    {
     "name": "stdout",
     "output_type": "stream",
     "text": [
      "[[0. 0. 1.]\n",
      " [1. 0. 0.]\n",
      " [0. 0. 1.]]\n"
     ]
    }
   ],
   "source": [
    "#사이킷런은 분류 결정 임곗값을 조절해 저일도와 재현율의 성능 수치를 상호 보완적으로 조정할 수 있음(아래 코드로 이해하자)\n",
    "#정해진 임계값을 만족하는 ndarry칼럼위치를 최종예측하는 클래스-->Binarizer\n",
    "\n",
    "from sklearn.preprocessing import Binarizer\n",
    "\n",
    "X=[[1, -1, 2],\n",
    "   [2, 0, 0],\n",
    "   [0, 1.1, 1.2]]\n",
    "\n",
    "# X의 개별 원소들이 분류결정 임계값인 threshold(1.1)값보다 같거나 작으면 0을, 크면 1을 반환.\n",
    "binarizer=Binarizer(threshold=1.1)\n",
    "print(binarizer.fit_transform(X))"
   ]
  },
  {
   "cell_type": "code",
   "execution_count": 164,
   "id": "07ea5be8-18a4-4400-a0a4-07b47dbbcbaa",
   "metadata": {},
   "outputs": [
    {
     "name": "stdout",
     "output_type": "stream",
     "text": [
      "오차 행렬\n",
      "[[108  10]\n",
      " [ 14  47]]\n",
      "정확도: 0.8659, 정밀도: 0.8246, 재현율: 0.7705\n"
     ]
    }
   ],
   "source": [
    "#\n",
    "from sklearn.preprocessing import Binarizer\n",
    "\n",
    "#Binarizer의 threshold 설정값 0.5가 분류 결정 임계값임.\n",
    "custom_threshold=0.5\n",
    "\n",
    "#predict_proba() 반환값의 두 번째 칼럼, 즉 Positive(1) 클래스 칼럼만 추출해 Binarizer를 적용\n",
    "pred_proba_1=pred_proba[:,1].reshape(-1,1) \n",
    "binarizer=Binarizer(threshold=custom_threshold).fit(pred_proba_1)\n",
    "custom_predict=binarizer.transform(pred_proba_1)\n",
    "\n",
    "get_clf_eval(y_test, custom_predict)  ###값 다름,,ㅠㅠ"
   ]
  },
  {
   "cell_type": "code",
   "execution_count": 165,
   "id": "5b3d3964-6512-478c-a53b-c45a89fa779f",
   "metadata": {},
   "outputs": [
    {
     "name": "stdout",
     "output_type": "stream",
     "text": [
      "오차 행렬\n",
      "[[97 21]\n",
      " [11 50]]\n",
      "정확도: 0.8212, 정밀도: 0.7042, 재현율: 0.8197\n"
     ]
    }
   ],
   "source": [
    "#분류 결정 임계값을 0.4로 낮춤\n",
    "custom_threshold=0.4\n",
    "pred_proba_1=pred_proba[:,1].reshape(-1,1)\n",
    "binarizer=Binarizer(threshold=custom_threshold).fit(pred_proba_1) #임계값 0.4로 값이 1인 칼럼만 넣어서 예측해본거\n",
    "custom_predict=binarizer.transform(pred_proba_1)\n",
    "\n",
    "get_clf_eval(y_test, custom_predict)   ####<-ㅜㅠㅠ"
   ]
  },
  {
   "cell_type": "markdown",
   "id": "a6eb7a31-1e0a-4035-aad1-58e966588c75",
   "metadata": {},
   "source": [
    "* 임계값을 낮추니까 재현율이 올라가고 정밀도가 떨어짐. 그 이유는 분류 결정 임계값은 Psitive 예측값을 결정하는 확률의 기준이 됨. 확률이 0.5가 아닌 0.4부터 Positve로 예측을 더 너그럽게 하기 때문. ->임계값 낮출수록 P로 예측을 더 많이 하기에 True 값이 많아짐. Positive 예측값이 많아지면 상대적으로 재현율이 높아짐. 양성 예측을 많이 하다 보니 실제 양성을 음성으로 예측할 횟수가 줄어들기 때문. \n",
    "  * 즉, (분자-TP가 커지고 분모-TP커지고, 분모-FN가 작아짐)"
   ]
  },
  {
   "cell_type": "code",
   "execution_count": 166,
   "id": "92008798-d016-4752-acb2-86d44c71a396",
   "metadata": {},
   "outputs": [
    {
     "name": "stdout",
     "output_type": "stream",
     "text": [
      "임계값: 0.4\n",
      "오차 행렬\n",
      "[[97 21]\n",
      " [11 50]]\n",
      "정확도: 0.8212, 정밀도: 0.7042, 재현율: 0.8197\n",
      "임계값: 0.45\n",
      "오차 행렬\n",
      "[[105  13]\n",
      " [ 13  48]]\n",
      "정확도: 0.8547, 정밀도: 0.7869, 재현율: 0.7869\n",
      "임계값: 0.5\n",
      "오차 행렬\n",
      "[[108  10]\n",
      " [ 14  47]]\n",
      "정확도: 0.8659, 정밀도: 0.8246, 재현율: 0.7705\n",
      "임계값: 0.55\n",
      "오차 행렬\n",
      "[[111   7]\n",
      " [ 16  45]]\n",
      "정확도: 0.8715, 정밀도: 0.8654, 재현율: 0.7377\n",
      "임계값: 0.6\n",
      "오차 행렬\n",
      "[[113   5]\n",
      " [ 17  44]]\n",
      "정확도: 0.8771, 정밀도: 0.8980, 재현율: 0.7213\n"
     ]
    }
   ],
   "source": [
    "#임계값 변화에 따른 평가 지표 값 알아보는 코드 \n",
    "#임계값을 0.4로 부터 0.6까지 0.05씩 증가시키며 평가 지표를 작설할건데 이를 위해 get_eval_by_threshold()를 써줌\n",
    "\n",
    "#테스트를 수행할 모든 임계값을 리스트 객체로 저장\n",
    "thresholds=[0.4, 0.45, 0.50, 0.55, 0.60]\n",
    "\n",
    "def get_eval_by_threshold(y_test, pred_proba_c1, thresholds):\n",
    "    #thresholds list객체 내의 값을 차례로 iteration하면서 Evaluation 수행.\n",
    "    for custom_threshold in thresholds:\n",
    "        binarizer=Binarizer(threshold=custom_threshold).fit(pred_proba_c1)\n",
    "        custom_predict=binarizer.transform(pred_proba_c1)\n",
    "        print('임계값:',custom_threshold)\n",
    "        get_clf_eval(y_test, custom_predict)\n",
    "        \n",
    "get_eval_by_threshold(y_test, pred_proba[:,1].reshape(-1,1), thresholds)"
   ]
  },
  {
   "cell_type": "code",
   "execution_count": 171,
   "id": "9ebde2d4-8193-4452-9c35-c4598fd8a4a6",
   "metadata": {},
   "outputs": [
    {
     "name": "stdout",
     "output_type": "stream",
     "text": [
      "반환된 분류 결정 임계값 배열의 Shape: (147,)\n",
      "샘플 추출을 위한 임계값 배열의 index 10개: [  0  15  30  45  60  75  90 105 120 135]\n",
      "샘플용 10개의 임계값:  [0.12 0.13 0.15 0.17 0.26 0.38 0.49 0.63 0.76 0.9 ]\n",
      "샘플 임계값별 정밀도:  [0.379 0.424 0.455 0.519 0.618 0.676 0.797 0.93  0.964 1.   ]\n",
      "샘플 임계값별 재현율:  [1.    0.967 0.902 0.902 0.902 0.82  0.77  0.656 0.443 0.213]\n"
     ]
    }
   ],
   "source": [
    "# 사이킷런은 위와 유사한(임계값 변화에 따른 평가 지표값) precision_recall_curve()\n",
    "\n",
    "from sklearn.metrics import precision_recall_curve\n",
    "\n",
    "#레이블 값이 1일 때의 예측 확률을 추출\n",
    "pred_proba_class1=lr_clf.predict_proba(X_test)[:, 1] #열 두번째거 (이름:1) 빼온거\n",
    "\n",
    "#실제값 데이터 세트와 레이블 값이 1일때 예측 확률을 precision_recall_curve 인자로 입력\n",
    "precisions, recalls, thresholds=precision_recall_curve(y_test, pred_proba_class1) ####>???\n",
    "print('반환된 분류 결정 임계값 배열의 Shape:', thresholds.shape)\n",
    "\n",
    "#반환된 임계값 배열 로우가 147건이므로 샘플로 10건만 추출하되, 임계값을 15 step으로 추출\n",
    "thr_index=np.arange(0, thresholds.shape[0], 15) # 첫항이 0, 끝항이 thresholds.shape[0]=147, 간격이 15\n",
    "print('샘플 추출을 위한 임계값 배열의 index 10개:',thr_index)\n",
    "print('샘플용 10개의 임계값: ',np.round(thresholds[thr_index], 2))\n",
    "\n",
    "#15 step 단위로 추출된 임계값에 따른 정밀도와 재현율 값\n",
    "print('샘플 임계값별 정밀도: ', np.round(precisions[thr_index], 3))\n",
    "print('샘플 임계값별 재현율: ', np.round(recalls[thr_index], 3))"
   ]
  },
  {
   "cell_type": "code",
   "execution_count": 168,
   "id": "c8e34938-6fd5-4511-95bd-fa279a257c70",
   "metadata": {},
   "outputs": [
    {
     "data": {
      "text/plain": [
       "(array([0.37888199, 0.375     , 0.37735849, 0.37974684, 0.38216561,\n",
       "        0.37820513, 0.38064516, 0.38311688, 0.38562092, 0.38815789,\n",
       "        0.39072848, 0.39597315, 0.40136054, 0.41843972, 0.42142857,\n",
       "        0.42446043, 0.43065693, 0.43382353, 0.43703704, 0.44029851,\n",
       "        0.44360902, 0.4469697 , 0.44615385, 0.4496124 , 0.4453125 ,\n",
       "        0.44094488, 0.44444444, 0.44      , 0.44354839, 0.44715447,\n",
       "        0.45454545, 0.45833333, 0.46218487, 0.46610169, 0.47008547,\n",
       "        0.47413793, 0.47826087, 0.48245614, 0.48672566, 0.49107143,\n",
       "        0.4954955 , 0.5       , 0.50458716, 0.50925926, 0.51401869,\n",
       "        0.51886792, 0.52380952, 0.52884615, 0.53398058, 0.53921569,\n",
       "        0.54455446, 0.55      , 0.55555556, 0.56122449, 0.56701031,\n",
       "        0.57291667, 0.59139785, 0.59782609, 0.6043956 , 0.61111111,\n",
       "        0.61797753, 0.625     , 0.63218391, 0.63953488, 0.64705882,\n",
       "        0.64285714, 0.65060241, 0.65853659, 0.66666667, 0.675     ,\n",
       "        0.6835443 , 0.69230769, 0.68831169, 0.68421053, 0.68      ,\n",
       "        0.67567568, 0.68493151, 0.69444444, 0.70422535, 0.71428571,\n",
       "        0.71014493, 0.72058824, 0.73134328, 0.74242424, 0.75384615,\n",
       "        0.765625  , 0.76190476, 0.77419355, 0.78688525, 0.8       ,\n",
       "        0.79661017, 0.81034483, 0.8245614 , 0.83928571, 0.83636364,\n",
       "        0.83333333, 0.8490566 , 0.86538462, 0.8627451 , 0.88      ,\n",
       "        0.89795918, 0.89583333, 0.91489362, 0.93478261, 0.93181818,\n",
       "        0.93023256, 0.92857143, 0.95121951, 0.95      , 0.94871795,\n",
       "        0.94736842, 0.94594595, 0.94444444, 0.94285714, 0.94117647,\n",
       "        0.93939394, 0.9375    , 0.96774194, 0.96666667, 0.96551724,\n",
       "        0.96428571, 0.96296296, 0.96153846, 0.96      , 0.95833333,\n",
       "        0.95652174, 0.95454545, 0.95238095, 0.95      , 0.94736842,\n",
       "        0.94444444, 0.94117647, 0.9375    , 1.        , 1.        ,\n",
       "        1.        , 1.        , 1.        , 1.        , 1.        ,\n",
       "        1.        , 1.        , 1.        , 1.        , 1.        ,\n",
       "        1.        , 1.        , 1.        ]),\n",
       " array([1.        , 0.98360656, 0.98360656, 0.98360656, 0.98360656,\n",
       "        0.96721311, 0.96721311, 0.96721311, 0.96721311, 0.96721311,\n",
       "        0.96721311, 0.96721311, 0.96721311, 0.96721311, 0.96721311,\n",
       "        0.96721311, 0.96721311, 0.96721311, 0.96721311, 0.96721311,\n",
       "        0.96721311, 0.96721311, 0.95081967, 0.95081967, 0.93442623,\n",
       "        0.91803279, 0.91803279, 0.90163934, 0.90163934, 0.90163934,\n",
       "        0.90163934, 0.90163934, 0.90163934, 0.90163934, 0.90163934,\n",
       "        0.90163934, 0.90163934, 0.90163934, 0.90163934, 0.90163934,\n",
       "        0.90163934, 0.90163934, 0.90163934, 0.90163934, 0.90163934,\n",
       "        0.90163934, 0.90163934, 0.90163934, 0.90163934, 0.90163934,\n",
       "        0.90163934, 0.90163934, 0.90163934, 0.90163934, 0.90163934,\n",
       "        0.90163934, 0.90163934, 0.90163934, 0.90163934, 0.90163934,\n",
       "        0.90163934, 0.90163934, 0.90163934, 0.90163934, 0.90163934,\n",
       "        0.8852459 , 0.8852459 , 0.8852459 , 0.8852459 , 0.8852459 ,\n",
       "        0.8852459 , 0.8852459 , 0.86885246, 0.85245902, 0.83606557,\n",
       "        0.81967213, 0.81967213, 0.81967213, 0.81967213, 0.81967213,\n",
       "        0.80327869, 0.80327869, 0.80327869, 0.80327869, 0.80327869,\n",
       "        0.80327869, 0.78688525, 0.78688525, 0.78688525, 0.78688525,\n",
       "        0.7704918 , 0.7704918 , 0.7704918 , 0.7704918 , 0.75409836,\n",
       "        0.73770492, 0.73770492, 0.73770492, 0.72131148, 0.72131148,\n",
       "        0.72131148, 0.70491803, 0.70491803, 0.70491803, 0.67213115,\n",
       "        0.6557377 , 0.63934426, 0.63934426, 0.62295082, 0.60655738,\n",
       "        0.59016393, 0.57377049, 0.55737705, 0.54098361, 0.52459016,\n",
       "        0.50819672, 0.49180328, 0.49180328, 0.47540984, 0.45901639,\n",
       "        0.44262295, 0.42622951, 0.40983607, 0.39344262, 0.37704918,\n",
       "        0.36065574, 0.3442623 , 0.32786885, 0.31147541, 0.29508197,\n",
       "        0.27868852, 0.26229508, 0.24590164, 0.24590164, 0.2295082 ,\n",
       "        0.21311475, 0.19672131, 0.18032787, 0.16393443, 0.14754098,\n",
       "        0.13114754, 0.1147541 , 0.09836066, 0.08196721, 0.06557377,\n",
       "        0.03278689, 0.01639344, 0.        ]),\n",
       " array([0.11573102, 0.11636723, 0.11819213, 0.12102774, 0.1234948 ,\n",
       "        0.12350958, 0.12367553, 0.12730438, 0.12780981, 0.12838061,\n",
       "        0.12904511, 0.12928357, 0.12934056, 0.12941903, 0.13094562,\n",
       "        0.13174372, 0.13196918, 0.13221181, 0.13227898, 0.13536702,\n",
       "        0.13570357, 0.13571   , 0.1357405 , 0.13664489, 0.1375847 ,\n",
       "        0.13821237, 0.13866563, 0.14423595, 0.14523152, 0.14927303,\n",
       "        0.14927478, 0.14996978, 0.15025071, 0.15029262, 0.15031481,\n",
       "        0.15252582, 0.15276924, 0.15344754, 0.15652281, 0.15768776,\n",
       "        0.15805796, 0.15920997, 0.15981388, 0.16929076, 0.17053651,\n",
       "        0.17288744, 0.17656591, 0.1828031 , 0.20840196, 0.21127162,\n",
       "        0.21146794, 0.21264241, 0.21814872, 0.22356775, 0.22562756,\n",
       "        0.22996172, 0.23280098, 0.24315893, 0.24583256, 0.2538079 ,\n",
       "        0.25749268, 0.26467919, 0.26627951, 0.27002658, 0.283459  ,\n",
       "        0.28441583, 0.2880536 , 0.28879776, 0.29773307, 0.30202578,\n",
       "        0.31152613, 0.32202995, 0.32461308, 0.37288269, 0.37416478,\n",
       "        0.37571831, 0.38134888, 0.39802175, 0.40161934, 0.40194454,\n",
       "        0.41445142, 0.41803173, 0.42351943, 0.43653428, 0.43966456,\n",
       "        0.44222414, 0.44497249, 0.44673657, 0.45125913, 0.454472  ,\n",
       "        0.49209943, 0.49675952, 0.51355235, 0.51724753, 0.51807937,\n",
       "        0.52051719, 0.54412031, 0.55064775, 0.57135187, 0.59397426,\n",
       "        0.60096648, 0.61651659, 0.62057772, 0.62067109, 0.62629695,\n",
       "        0.62876413, 0.63856712, 0.64779433, 0.64818744, 0.65129871,\n",
       "        0.65202361, 0.65651101, 0.66092028, 0.66814002, 0.6711466 ,\n",
       "        0.68434287, 0.68584875, 0.72771397, 0.74146852, 0.74838702,\n",
       "        0.75924582, 0.7599495 , 0.76223722, 0.76738866, 0.7746788 ,\n",
       "        0.78006621, 0.79383978, 0.79696902, 0.83460266, 0.84990723,\n",
       "        0.86053885, 0.8636594 , 0.86565305, 0.87778554, 0.88858246,\n",
       "        0.89611668, 0.91026752, 0.91630374, 0.91699185, 0.92085513,\n",
       "        0.92233281, 0.92353131, 0.92638597, 0.92838719, 0.93261004,\n",
       "        0.94040085, 0.94326279]))"
      ]
     },
     "execution_count": 168,
     "metadata": {},
     "output_type": "execute_result"
    }
   ],
   "source": [
    "#보면 알겠지만 이게 세 부분으로 나눠져있음. precisions, recalls, thresholds가 같은게 아니고 순서대로 세부분이 각각 들어감.\n",
    "\n",
    "precision_recall_curve(y_test, pred_proba_class1)"
   ]
  }
 ],
 "metadata": {
  "kernelspec": {
   "display_name": "Python 3 (ipykernel)",
   "language": "python",
   "name": "python3"
  },
  "language_info": {
   "codemirror_mode": {
    "name": "ipython",
    "version": 3
   },
   "file_extension": ".py",
   "mimetype": "text/x-python",
   "name": "python",
   "nbconvert_exporter": "python",
   "pygments_lexer": "ipython3",
   "version": "3.9.7"
  }
 },
 "nbformat": 4,
 "nbformat_minor": 5
}
